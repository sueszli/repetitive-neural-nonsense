{
 "cells": [
  {
   "cell_type": "code",
   "execution_count": 126,
   "metadata": {},
   "outputs": [],
   "source": [
    "import torch\n",
    "from torch import nn\n",
    "from torch.nn import functional as F\n",
    "from torch.optim import SGD\n",
    "from torch.utils.data import DataLoader\n",
    "from torchvision import datasets\n",
    "from torchvision.transforms import ToTensor\n",
    "\n",
    "import numpy as np\n",
    "import matplotlib.pyplot as plt\n",
    "import seaborn as sns\n",
    "from typing import Callable"
   ]
  },
  {
   "cell_type": "markdown",
   "metadata": {},
   "source": [
    "## what does the data look like?"
   ]
  },
  {
   "cell_type": "code",
   "execution_count": 135,
   "metadata": {},
   "outputs": [
    {
     "name": "stdout",
     "output_type": "stream",
     "text": [
      "Number of training images: 60000\n",
      "Number of labels: 10\n",
      "Shape of X: torch.Size([1, 28, 28]) -> [color channels, img height, img width]\n",
      "Shape of y: 9 -> label for each image\n"
     ]
    }
   ],
   "source": [
    "# get data\n",
    "train_data = datasets.FashionMNIST(root=\"../data\", train=True, download=True, transform=ToTensor())\n",
    "test_data = datasets.FashionMNIST(root=\"../data\", train=False, download=True, transform=ToTensor())\n",
    "\n",
    "print(f\"Number of training images: {len(train_data)}\")\n",
    "print(f\"Number of labels: {len(train_data.classes)}\")\n",
    "\n",
    "img, label = train_data[0]\n",
    "print(f\"Shape of X: {img.shape} -> [color channels, img height, img width]\")\n",
    "print(f\"Shape of y: {label} -> label for each image\")"
   ]
  },
  {
   "cell_type": "code",
   "execution_count": 129,
   "metadata": {},
   "outputs": [
    {
     "data": {
      "image/png": "[encoded data removed]",
      "text/plain": [
       "<Figure size 500x500 with 9 Axes>"
      ]
     },
     "metadata": {},
     "output_type": "display_data"
    }
   ],
   "source": [
    "# {\n",
    "#     \"T-Shirt\": 0,\n",
    "#     \"Trouser\": 1,\n",
    "#     \"Pullover\": 2,\n",
    "#     \"Dress\": 3,\n",
    "#     \"Coat\": 4,\n",
    "#     \"Sandal\": 5,\n",
    "#     \"Shirt\": 6,\n",
    "#     \"Sneaker\": 7,\n",
    "#     \"Bag\": 8,\n",
    "#     \"Ankle Boot\": 9,\n",
    "# }\n",
    "\n",
    "figure = plt.figure(figsize=(5, 5))\n",
    "cols, rows = 3, 3\n",
    "get_label_name: Callable[[int], str] = lambda label: train_data.classes[label]\n",
    "for i in range(1, cols * rows + 1):\n",
    "    idx = torch.randint(len(train_data), size=(1,)).item()\n",
    "    img, label = train_data[idx] # type: ignore\n",
    "    figure.add_subplot(rows, cols, i)\n",
    "    plt.title(get_label_name(label))\n",
    "    plt.axis(\"off\")\n",
    "    plt.imshow(img.squeeze(), cmap=\"gray\")\n",
    "plt.show()"
   ]
  },
  {
   "cell_type": "markdown",
   "metadata": {},
   "source": [
    "## neural network"
   ]
  },
  {
   "cell_type": "markdown",
   "metadata": {},
   "source": [
    "the `__init__` function describes the architecture of the neural network by defining a bunch of object variables.\n",
    "\n",
    "the `forward` function describes how the data flows through the network by using the previously defined object variables.\n",
    "\n",
    "_flatten_\n",
    "\n",
    "- we flatten the 2d input image into a 1d tensor.\n",
    "\n",
    "_linear transformation_\n",
    "\n",
    "- $y = xW^T + b$\n",
    "- we have 2 hidden layers and one output layer.\n",
    "- we want to learn the weight matrix $W$ and bias vector $b$.\n",
    "- fully connected layers: every neuron in the input is connected to every neuron in the output.\n",
    "\n",
    "_relu activation function_\n",
    "\n",
    "- $y = max(0, x)$"
   ]
  },
  {
   "cell_type": "code",
   "execution_count": 116,
   "metadata": {},
   "outputs": [
    {
     "name": "stdout",
     "output_type": "stream",
     "text": [
      "NeuralNetwork(\n",
      "  (flatten): Flatten(start_dim=1, end_dim=-1)\n",
      "  (linear_relu_stack): Sequential(\n",
      "    (0): Linear(in_features=784, out_features=512, bias=True)\n",
      "    (1): ReLU()\n",
      "    (2): Linear(in_features=512, out_features=512, bias=True)\n",
      "    (3): ReLU()\n",
      "    (4): Linear(in_features=512, out_features=10, bias=True)\n",
      "  )\n",
      ")\n"
     ]
    }
   ],
   "source": [
    "class NeuralNetwork(nn.Module):\n",
    "    def __init__(self):\n",
    "        super().__init__()\n",
    "        \n",
    "        self.flatten = nn.Flatten()\n",
    "\n",
    "        self.linear_relu_stack = nn.Sequential(\n",
    "            nn.Linear(in_features=28*28, out_features=512, bias=True),\n",
    "            nn.ReLU(),\n",
    "\n",
    "            nn.Linear(in_features=512, out_features=512, bias=True),\n",
    "            nn.ReLU(),\n",
    "\n",
    "            nn.Linear(in_features=512, out_features=10, bias=True),\n",
    "        )\n",
    "\n",
    "    def forward(self, x):\n",
    "        x = self.flatten(x)\n",
    "        logits = self.linear_relu_stack(x)\n",
    "        return logits\n",
    "\n",
    "device = torch.device(\"cuda\" if torch.cuda.is_available() else \"mps\" if torch.backends.mps.is_available() else \"cpu\")\n",
    "model = NeuralNetwork().to(device)\n",
    "\n",
    "print(model)"
   ]
  },
  {
   "cell_type": "code",
   "execution_count": 117,
   "metadata": {},
   "outputs": [
    {
     "name": "stdout",
     "output_type": "stream",
     "text": [
      "layer: linear_relu_stack.0.weight | size: torch.Size([512, 784]) | \n",
      "weights : tensor([[-0.0319,  0.0035,  0.0138,  ...,  0.0226, -0.0274, -0.0286],\n",
      "        [-0.0294,  0.0324, -0.0148,  ..., -0.0308,  0.0093,  0.0304]],\n",
      "       device='mps:0', grad_fn=<SliceBackward0>) \n",
      "\n",
      "layer: linear_relu_stack.0.bias | size: torch.Size([512]) | \n",
      "weights : tensor([-0.0137,  0.0260], device='mps:0', grad_fn=<SliceBackward0>) \n",
      "\n",
      "layer: linear_relu_stack.2.weight | size: torch.Size([512, 512]) | \n",
      "weights : tensor([[-0.0077,  0.0117,  0.0080,  ..., -0.0019,  0.0199, -0.0099],\n",
      "        [-0.0337, -0.0306, -0.0261,  ...,  0.0237,  0.0231, -0.0337]],\n",
      "       device='mps:0', grad_fn=<SliceBackward0>) \n",
      "\n",
      "layer: linear_relu_stack.2.bias | size: torch.Size([512]) | \n",
      "weights : tensor([-0.0229, -0.0167], device='mps:0', grad_fn=<SliceBackward0>) \n",
      "\n",
      "layer: linear_relu_stack.4.weight | size: torch.Size([10, 512]) | \n",
      "weights : tensor([[-0.0005, -0.0036,  0.0015,  ..., -0.0431,  0.0120, -0.0076],\n",
      "        [ 0.0301,  0.0430, -0.0320,  ...,  0.0012,  0.0261, -0.0358]],\n",
      "       device='mps:0', grad_fn=<SliceBackward0>) \n",
      "\n",
      "layer: linear_relu_stack.4.bias | size: torch.Size([10]) | \n",
      "weights : tensor([0.0324, 0.0237], device='mps:0', grad_fn=<SliceBackward0>) \n",
      "\n"
     ]
    }
   ],
   "source": [
    "for name, param in model.named_parameters():\n",
    "    print(f\"layer: {name} | size: {param.size()} | \\nweights : {param[:2]} \\n\")"
   ]
  },
  {
   "cell_type": "code",
   "execution_count": 136,
   "metadata": {},
   "outputs": [
    {
     "name": "stdout",
     "output_type": "stream",
     "text": [
      "predicted: tensor([8], device='mps:0') -> Bag\n"
     ]
    }
   ],
   "source": [
    "# not a real image, just to test the model\n",
    "X = torch.rand(1, 28, 28, device=device)\n",
    "\n",
    "# apply softmax to the output, get highest probability class\n",
    "logits = model(X)\n",
    "y_pred = nn.Softmax(dim=1)(logits).argmax(1)\n",
    "print(f\"predicted: {y_pred} -> {get_label_name(y_pred.item())}\")"
   ]
  },
  {
   "cell_type": "markdown",
   "metadata": {},
   "source": [
    "## train and benchmark"
   ]
  },
  {
   "cell_type": "markdown",
   "metadata": {},
   "source": [
    "setting the model to `.train()` or `.eval()` mode is important because it changes the behavior of some layers like dropout and batch normalization. it's unnecessary for this model because we don't have any of those layers but it's a good habit to get into.\n",
    "\n",
    "in the `test_loop()` we disable the gradient computation by using `torch.no_grad()` because we don't need to compute gradients during inference for tensors with `requires_grad=True`. this speeds up the computation and reduces memory."
   ]
  },
  {
   "cell_type": "code",
   "execution_count": 140,
   "metadata": {},
   "outputs": [
    {
     "name": "stdout",
     "output_type": "stream",
     "text": [
      "Epoch 1\n",
      "-------------------------------\n",
      "Loss: 0.735570  [   64/60000]\n",
      "Loss: 0.604878  [ 6464/60000]\n",
      "Loss: 0.825152  [12864/60000]\n",
      "Loss: 0.622652  [19264/60000]\n",
      "Loss: 0.768723  [25664/60000]\n",
      "Loss: 0.720670  [32064/60000]\n",
      "Loss: 0.531066  [38464/60000]\n",
      "Loss: 0.523311  [44864/60000]\n",
      "Loss: 0.773197  [51264/60000]\n",
      "Loss: 0.827473  [57664/60000]\n",
      "Accuracy: 76.2%, Avg loss: 0.672273 \n",
      "\n",
      "Epoch 2\n",
      "-------------------------------\n",
      "Loss: 0.594098  [   64/60000]\n",
      "Loss: 0.943268  [ 6464/60000]\n",
      "Loss: 0.815638  [12864/60000]\n",
      "Loss: 0.942249  [19264/60000]\n",
      "Loss: 0.510381  [25664/60000]\n",
      "Loss: 0.715787  [32064/60000]\n",
      "Loss: 0.565259  [38464/60000]\n",
      "Loss: 0.488567  [44864/60000]\n",
      "Loss: 0.624243  [51264/60000]\n",
      "Loss: 0.715998  [57664/60000]\n",
      "Accuracy: 76.9%, Avg loss: 0.656618 \n",
      "\n",
      "Epoch 3\n",
      "-------------------------------\n",
      "Loss: 0.637558  [   64/60000]\n",
      "Loss: 0.508232  [ 6464/60000]\n",
      "Loss: 0.638111  [12864/60000]\n",
      "Loss: 0.593656  [19264/60000]\n",
      "Loss: 0.710752  [25664/60000]\n",
      "Loss: 0.524234  [32064/60000]\n",
      "Loss: 0.542032  [38464/60000]\n",
      "Loss: 0.491924  [44864/60000]\n",
      "Loss: 0.625531  [51264/60000]\n",
      "Loss: 0.656444  [57664/60000]\n",
      "Accuracy: 77.5%, Avg loss: 0.643202 \n",
      "\n",
      "Epoch 4\n",
      "-------------------------------\n",
      "Loss: 0.633955  [   64/60000]\n",
      "Loss: 0.601315  [ 6464/60000]\n",
      "Loss: 0.645069  [12864/60000]\n",
      "Loss: 0.658189  [19264/60000]\n",
      "Loss: 0.729090  [25664/60000]\n",
      "Loss: 0.764254  [32064/60000]\n",
      "Loss: 0.451243  [38464/60000]\n",
      "Loss: 0.560401  [44864/60000]\n",
      "Loss: 0.623005  [51264/60000]\n",
      "Loss: 0.569781  [57664/60000]\n",
      "Accuracy: 78.0%, Avg loss: 0.631624 \n",
      "\n",
      "Epoch 5\n",
      "-------------------------------\n",
      "Loss: 0.462149  [   64/60000]\n",
      "Loss: 0.519544  [ 6464/60000]\n",
      "Loss: 0.517295  [12864/60000]\n",
      "Loss: 0.567625  [19264/60000]\n",
      "Loss: 0.633778  [25664/60000]\n",
      "Loss: 0.420986  [32064/60000]\n",
      "Loss: 0.731194  [38464/60000]\n",
      "Loss: 0.781835  [44864/60000]\n",
      "Loss: 0.347404  [51264/60000]\n",
      "Loss: 0.786522  [57664/60000]\n",
      "Accuracy: 78.4%, Avg loss: 0.620873 \n",
      "\n"
     ]
    }
   ],
   "source": [
    "\n",
    "def train_loop(dataloader, model, loss_fn, optimizer):\n",
    "    size = len(dataloader.dataset)\n",
    "    model.train()\n",
    "    \n",
    "    for batch, (X, y) in enumerate(dataloader):\n",
    "        X, y = X.to(device), y.to(device)\n",
    "\n",
    "        # get prediction error\n",
    "        pred = model(X)\n",
    "        loss = loss_fn(pred, y)\n",
    "\n",
    "        # backpropagation\n",
    "        loss.backward() # compute gradients for each parameter\n",
    "        optimizer.step() # update weights based on gradients\n",
    "        optimizer.zero_grad() # reset gradients so they don't accumulate\n",
    "\n",
    "        if batch % 100 == 0:\n",
    "            loss = loss.item()\n",
    "            current = (batch + 1) * len(X)\n",
    "            print(f\"Loss: {loss:>7f}  [{current:>5d}/{size:>5d}]\")\n",
    "\n",
    "\n",
    "def test_loop(dataloader, model, loss_fn):\n",
    "    size = len(dataloader.dataset)\n",
    "    num_batches = len(dataloader)\n",
    "    model.eval()\n",
    "\n",
    "    # compute loss and accuracy over entire test set\n",
    "    test_loss, correct = 0, 0\n",
    "    with torch.no_grad():\n",
    "        for X, y in dataloader:\n",
    "            X, y = X.to(device), y.to(device)\n",
    "            pred = model(X)\n",
    "            test_loss += loss_fn(pred, y).item()\n",
    "            correct += (pred.argmax(1) == y).type(torch.float).sum().item()\n",
    "\n",
    "    # average\n",
    "    test_loss /= num_batches\n",
    "    correct /= size\n",
    "\n",
    "    print(f\"Accuracy: {(100*correct):>0.1f}%, Avg loss: {test_loss:>8f} \\n\")\n",
    "\n",
    "\n",
    "def main():\n",
    "    hyperparams = {\n",
    "        \"batch_size\": 64,\n",
    "        \"epochs\": 5,\n",
    "        \"learning_rate\": 1e-3,\n",
    "    }\n",
    "    loss_fn: nn.CrossEntropyLoss = nn.CrossEntropyLoss()\n",
    "    optimizer: SGD = torch.optim.SGD(model.parameters(), lr=hyperparams[\"learning_rate\"])\n",
    "\n",
    "    train_batcher = DataLoader(train_data, batch_size=hyperparams[\"batch_size\"], shuffle=True)\n",
    "    test_batcher = DataLoader(test_data, batch_size=hyperparams[\"batch_size\"], shuffle=False)\n",
    "    for t in range(hyperparams[\"epochs\"]):\n",
    "        print(f\"Epoch {t+1}\\n-------------------------------\")\n",
    "        train_loop(train_batcher, model, loss_fn, optimizer)\n",
    "        test_loop(test_batcher, model, loss_fn)\n",
    "\n",
    "main()"
   ]
  },
  {
   "cell_type": "code",
   "execution_count": null,
   "metadata": {},
   "outputs": [],
   "source": []
  }
 ],
 "metadata": {
  "kernelspec": {
   "display_name": "Python 3",
   "language": "python",
   "name": "python3"
  },
  "language_info": {
   "codemirror_mode": {
    "name": "ipython",
    "version": 3
   },
   "file_extension": ".py",
   "mimetype": "text/x-python",
   "name": "python",
   "nbconvert_exporter": "python",
   "pygments_lexer": "ipython3",
   "version": "3.11.9"
  }
 },
 "nbformat": 4,
 "nbformat_minor": 2
}
