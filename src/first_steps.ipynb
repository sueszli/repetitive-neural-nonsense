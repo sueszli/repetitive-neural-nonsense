{
 "cells": [
  {
   "cell_type": "markdown",
   "metadata": {},
   "source": [
    "GRUs are best \n",
    "\n",
    "because they can learn the patterns in a sequence of user events (e.g., articles viewed, clicked, read times, scroll percentages) to predict the next item(s) in a session.\n",
    "\n",
    "The sequence of user events (e.g., articles viewed, clicked, read times, scroll percentages) can be treated as a temporal sequence where each event is represented by its corresponding features.\n",
    "\n",
    "The GRU can learn the patterns in this sequence to predict the next item(s) in a session, effectively recommending articles that are likely to engage the user based on their past behavior and the content of the articles themselves."
   ]
  },
  {
   "cell_type": "code",
   "execution_count": 1,
   "metadata": {},
   "outputs": [],
   "source": [
    "import numpy as np\n",
    "import polars as pl\n",
    "\n",
    "import os\n",
    "from pathlib import Path\n",
    "\n",
    "# read in data\n",
    "\n",
    "train_val_base = Path(os.getcwd()).parent / \"data-merged\" / \"merged\" / \"3-ebnerd_large_(3.0GB)\"\n",
    "test_base = Path(os.getcwd()).parent / \"data-merged\" / \"merged\" / \"5-ebnerd_testset_(1.5GB)\"\n",
    "assert train_val_base.exists() and test_base.exists()\n",
    "\n",
    "train_behaviors: pl.LazyFrame = pl.scan_parquet(train_val_base / \"train\" / \"behaviors.parquet\")\n",
    "train_history: pl.LazyFrame = pl.scan_parquet(train_val_base / \"train\" / \"history.parquet\")\n",
    "train_articles: pl.LazyFrame = pl.scan_parquet(train_val_base / \"articles.parquet\")\n",
    "\n",
    "val_behaviors: pl.LazyFrame = pl.scan_parquet(train_val_base / \"validation\" / \"behaviors.parquet\")\n",
    "val_history: pl.LazyFrame = pl.scan_parquet(train_val_base / \"validation\" / \"history.parquet\")\n",
    "val_articles: pl.LazyFrame = pl.scan_parquet(train_val_base / \"articles.parquet\")\n",
    "\n",
    "test_behaviors: pl.LazyFrame = pl.scan_parquet(test_base / \"test\" / \"behaviors.parquet\")\n",
    "test_history: pl.LazyFrame = pl.scan_parquet(test_base / \"test\" / \"history.parquet\")\n",
    "test_articles: pl.LazyFrame = pl.scan_parquet(test_base / \"articles.parquet\")"
   ]
  },
  {
   "cell_type": "code",
   "execution_count": 4,
   "metadata": {},
   "outputs": [
    {
     "name": "stdout",
     "output_type": "stream",
     "text": [
      "DEFAULT_CLICKED_ARTICLES_COL article_ids_clicked\n"
     ]
    }
   ],
   "source": [
    "from ebnerd_benchmark_lib.utils._constants import (\n",
    "    DEFAULT_HISTORY_ARTICLE_ID_COL,\n",
    "    DEFAULT_CLICKED_ARTICLES_COL,\n",
    "    DEFAULT_INVIEW_ARTICLES_COL,\n",
    "    DEFAULT_USER_COL\n",
    ")\n"
   ]
  },
  {
   "cell_type": "code",
   "execution_count": null,
   "metadata": {},
   "outputs": [],
   "source": []
  }
 ],
 "metadata": {
  "kernelspec": {
   "display_name": "Python 3",
   "language": "python",
   "name": "python3"
  },
  "language_info": {
   "codemirror_mode": {
    "name": "ipython",
    "version": 3
   },
   "file_extension": ".py",
   "mimetype": "text/x-python",
   "name": "python",
   "nbconvert_exporter": "python",
   "pygments_lexer": "ipython3",
   "version": "3.11.9"
  }
 },
 "nbformat": 4,
 "nbformat_minor": 2
}
