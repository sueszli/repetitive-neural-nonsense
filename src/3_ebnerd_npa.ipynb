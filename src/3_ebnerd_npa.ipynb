{
 "cells": [
  {
   "cell_type": "markdown",
   "metadata": {},
   "source": [
    "see paper: https://arxiv.org/abs/1907.05559\n",
    "\n",
    "# NPA: Neural News Recommendation with Personalized Attention"
   ]
  },
  {
   "cell_type": "code",
   "execution_count": 22,
   "metadata": {},
   "outputs": [],
   "source": [
    "from pathlib import Path\n",
    "import tensorflow as tf\n",
    "import polars as pl\n",
    "import numpy as np\n",
    "import os\n",
    "\n",
    "from ebrec.utils._constants import *\n",
    "from ebrec.utils._behaviors import create_binary_labels_column, sampling_strategy_wu2019, add_known_user_column, add_prediction_scores, truncate_history\n",
    "from ebrec.utils._articles import convert_text2encoding_with_transformers, create_article_id_to_value_mapping\n",
    "from ebrec.utils._polars import concat_str_columns, slice_join_dataframes\n",
    "from ebrec.utils._nlp import get_transformers_word_embeddings\n",
    "\n",
    "from transformers import AutoTokenizer, AutoModel\n",
    "\n",
    "\n",
    "\"\"\"\n",
    "load data\n",
    "\"\"\"\n",
    "\n",
    "data_base = Path(os.getcwd()).parent / \"data-merged\" / \"merged\"\n",
    "# train_val_base = data_base / \"1-ebnerd_demo_(20MB)\"\n",
    "train_val_base = data_base / \"2-ebnerd_small_(80MB)\"\n",
    "# train_val_base = data_base / \"3-ebnerd_large_(3.0GB)\"\n",
    "test_base = data_base / \"5-ebnerd_testset_(1.5GB)\"\n",
    "assert train_val_base.exists() and test_base.exists()\n",
    "\n",
    "train_behaviors = pl.scan_parquet(train_val_base / \"train\" / \"behaviors.parquet\")\n",
    "train_history = pl.scan_parquet(train_val_base / \"train\" / \"history.parquet\")\n",
    "\n",
    "val_behavior = pl.scan_parquet(train_val_base / \"validation\" / \"behaviors.parquet\")\n",
    "val_history = pl.scan_parquet(train_val_base / \"validation\" / \"history.parquet\")\n",
    "\n",
    "test_behavior = pl.scan_parquet(test_base / \"test\" / \"behaviors.parquet\")\n",
    "test_history = pl.scan_parquet(test_base / \"test\" / \"history.parquet\")\n",
    "\n",
    "train_articles: pl.LazyFrame = pl.scan_parquet(train_val_base / \"articles.parquet\")\n",
    "val_articles: pl.LazyFrame = train_articles\n",
    "test_articles: pl.LazyFrame = pl.scan_parquet(test_base / \"articles.parquet\")\n",
    "\n",
    "articles_word2vec: pl.LazyFrame = pl.scan_parquet(data_base / \"7-Ekstra-Bladet-word2vec_(133MB)\" / \"document_vector.parquet\")\n",
    "articles_image_embeddings: pl.LazyFrame = pl.scan_parquet(data_base / \"8-Ekstra_Bladet_image_embeddings_(372MB)\" / \"image_embeddings.parquet\")\n",
    "articles_contrastive_vector: pl.LazyFrame = pl.scan_parquet(data_base / \"9-Ekstra-Bladet-contrastive_vector_(341MB)\" / \"contrastive_vector.parquet\")\n",
    "articles_bert_base_multilingual_cased: pl.LazyFrame = pl.scan_parquet(data_base / \"10-google-bert-base-multilingual-cased_(344MB)\" / \"bert_base_multilingual_cased.parquet\")\n",
    "articles_xlm_roberta_base: pl.LazyFrame = pl.scan_parquet(data_base / \"11-FacebookAI-xlm-roberta-base_(341MB)\" / \"xlm_roberta_base.parquet\")\n",
    "\n",
    "\n",
    "\"\"\"\n",
    "preprocessing: truncate user history, select subset of columns, join behavior and history, sample based on Wu2019, add binary labels column\n",
    "\"\"\"\n",
    "\n",
    "\n",
    "def ebnerd_from_path(history: pl.LazyFrame, behaviors: pl.LazyFrame, history_size: int = 30) -> pl.DataFrame:\n",
    "    df_history = history.select(DEFAULT_USER_COL, DEFAULT_HISTORY_ARTICLE_ID_COL).pipe(truncate_history, column=DEFAULT_HISTORY_ARTICLE_ID_COL, history_size=history_size, padding_value=0)\n",
    "    df_behaviors = behaviors.collect().pipe(slice_join_dataframes, df2=df_history.collect(), on=DEFAULT_USER_COL, how=\"left\")\n",
    "    return df_behaviors\n",
    "\n",
    "\n",
    "COLUMNS = [\n",
    "    DEFAULT_USER_COL,\n",
    "    DEFAULT_HISTORY_ARTICLE_ID_COL,\n",
    "    DEFAULT_INVIEW_ARTICLES_COL,\n",
    "    DEFAULT_CLICKED_ARTICLES_COL,\n",
    "]\n",
    "HISTORY_SIZE = 30\n",
    "N_SAMPLES = 100\n",
    "df_train = (\n",
    "    ebnerd_from_path(history=train_history, behaviors=train_behaviors, history_size=HISTORY_SIZE)\n",
    "    .select(COLUMNS)\n",
    "    .pipe(sampling_strategy_wu2019, npratio=4, shuffle=True, with_replacement=True, seed=123)\n",
    "    .pipe(create_binary_labels_column)\n",
    "    .sample(n=N_SAMPLES)\n",
    ")\n",
    "df_validation = ebnerd_from_path(history=val_history, behaviors=val_behavior, history_size=HISTORY_SIZE).select(COLUMNS).pipe(create_binary_labels_column).sample(n=N_SAMPLES)\n",
    "df_test = (\n",
    "    ebnerd_from_path(history=test_history, behaviors=val_behavior, history_size=HISTORY_SIZE)\n",
    "    .with_columns(pl.Series(DEFAULT_CLICKED_ARTICLES_COL, [[]]))\n",
    "    .select(COLUMNS)\n",
    "    .pipe(create_binary_labels_column)\n",
    "    .sample(n=N_SAMPLES)\n",
    ")\n",
    "\n",
    "\n",
    "\"\"\"\n",
    "use huggingface transformers to convert article text to tokens, tokens to embeddings\n",
    "\"\"\"\n",
    "\n",
    "df_articles = train_articles.collect()\n",
    "TRANSFORMER_MODEL_NAME = \"bert-base-multilingual-cased\"\n",
    "TEXT_COLUMNS_TO_USE = [DEFAULT_SUBTITLE_COL, DEFAULT_TITLE_COL]\n",
    "MAX_TITLE_LENGTH = 30\n",
    "\n",
    "transformer_model = AutoModel.from_pretrained(TRANSFORMER_MODEL_NAME)\n",
    "transformer_tokenizer = AutoTokenizer.from_pretrained(TRANSFORMER_MODEL_NAME)\n",
    "\n",
    "word2vec_embedding = get_transformers_word_embeddings(transformer_model)\n",
    "df_articles, cat_cal = concat_str_columns(df_articles, columns=TEXT_COLUMNS_TO_USE)\n",
    "df_articles, token_col_title = convert_text2encoding_with_transformers(df_articles, transformer_tokenizer, cat_cal, max_length=MAX_TITLE_LENGTH)\n",
    "article_mapping = create_article_id_to_value_mapping(df=df_articles, value_col=token_col_title)"
   ]
  },
  {
   "cell_type": "code",
   "execution_count": 2,
   "metadata": {},
   "outputs": [],
   "source": [
    "\"\"\"\n",
    "batch data\n",
    "\"\"\"\n",
    "from ebrec.models.newsrec.dataloader import LSTURDataLoader  # NPA and LSTUR share the same dataloader\n",
    "\n",
    "user_id_mapping = {user_id: i for i, user_id in enumerate(df_train[DEFAULT_USER_COL].unique())}\n",
    "\n",
    "train_dataloader = LSTURDataLoader(\n",
    "    user_id_mapping=user_id_mapping,\n",
    "    behaviors=df_train,\n",
    "    article_dict=article_mapping,\n",
    "    unknown_representation=\"zeros\",\n",
    "    history_column=DEFAULT_HISTORY_ARTICLE_ID_COL,\n",
    "    eval_mode=False,\n",
    "    batch_size=64,\n",
    ")\n",
    "val_dataloader = LSTURDataLoader(\n",
    "    user_id_mapping=user_id_mapping,\n",
    "    behaviors=df_validation,\n",
    "    article_dict=article_mapping,\n",
    "    unknown_representation=\"zeros\",\n",
    "    history_column=DEFAULT_HISTORY_ARTICLE_ID_COL,\n",
    "    eval_mode=True,\n",
    "    batch_size=32,\n",
    ")\n",
    "test_dataloader = LSTURDataLoader(\n",
    "    user_id_mapping=user_id_mapping,\n",
    "    behaviors=df_test,\n",
    "    article_dict=article_mapping,\n",
    "    unknown_representation=\"zeros\",\n",
    "    history_column=DEFAULT_HISTORY_ARTICLE_ID_COL,\n",
    "    eval_mode=True,\n",
    "    batch_size=32,\n",
    ")"
   ]
  },
  {
   "cell_type": "code",
   "execution_count": 23,
   "metadata": {},
   "outputs": [
    {
     "name": "stderr",
     "output_type": "stream",
     "text": [
      "WARNING:absl:At this time, the v2.11+ optimizer `tf.keras.optimizers.Adam` runs slowly on M1/M2 Macs, please use the legacy Keras optimizer instead, located at `tf.keras.optimizers.legacy.Adam`.\n"
     ]
    },
    {
     "name": "stdout",
     "output_type": "stream",
     "text": [
      "WARNING:tensorflow:Model failed to serialize as JSON. Ignoring... Cannot serialize object <ebrec.models.newsrec.npa.NPAModel object at 0x392362190> of type <class 'ebrec.models.newsrec.npa.NPAModel'>. To be serializable, a class must implement the `get_config()` method.\n"
     ]
    },
    {
     "name": "stderr",
     "output_type": "stream",
     "text": [
      "WARNING:tensorflow:Model failed to serialize as JSON. Ignoring... Cannot serialize object <ebrec.models.newsrec.npa.NPAModel object at 0x392362190> of type <class 'ebrec.models.newsrec.npa.NPAModel'>. To be serializable, a class must implement the `get_config()` method.\n",
      "2024-05-11 21:27:52.536786: E tensorflow/core/grappler/optimizers/meta_optimizer.cc:961] model_pruner failed: INVALID_ARGUMENT: Graph does not contain terminal node Adam/AssignAddVariableOp_16.\n",
      "2024-05-11 21:27:52.672179: I tensorflow/core/framework/local_rendezvous.cc:421] Local rendezvous recv item cancelled. Key hash: 14097751946289750256\n",
      "2024-05-11 21:27:52.672195: I tensorflow/core/framework/local_rendezvous.cc:421] Local rendezvous recv item cancelled. Key hash: 104762413353123931\n",
      "2024-05-11 21:27:52.672199: I tensorflow/core/framework/local_rendezvous.cc:421] Local rendezvous recv item cancelled. Key hash: 12793545091132215493\n",
      "2024-05-11 21:27:52.672203: I tensorflow/core/framework/local_rendezvous.cc:421] Local rendezvous recv item cancelled. Key hash: 1895357316311650459\n",
      "2024-05-11 21:27:52.672207: I tensorflow/core/framework/local_rendezvous.cc:421] Local rendezvous recv item cancelled. Key hash: 15332597895229543239\n",
      "2024-05-11 21:27:52.672211: I tensorflow/core/framework/local_rendezvous.cc:421] Local rendezvous recv item cancelled. Key hash: 17718854857656780231\n",
      "2024-05-11 21:27:52.672214: I tensorflow/core/framework/local_rendezvous.cc:421] Local rendezvous recv item cancelled. Key hash: 14368297104162078227\n",
      "2024-05-11 21:27:52.672222: I tensorflow/core/framework/local_rendezvous.cc:421] Local rendezvous recv item cancelled. Key hash: 15170772213005787918\n",
      "2024-05-11 21:27:52.672226: I tensorflow/core/framework/local_rendezvous.cc:421] Local rendezvous recv item cancelled. Key hash: 13755176249455871268\n",
      "2024-05-11 21:27:52.672230: I tensorflow/core/framework/local_rendezvous.cc:421] Local rendezvous recv item cancelled. Key hash: 11041064505193850638\n",
      "2024-05-11 21:27:52.672232: I tensorflow/core/framework/local_rendezvous.cc:425] Local rendezvous send item cancelled. Key hash: 8054790934451947950\n",
      "2024-05-11 21:27:52.672235: I tensorflow/core/framework/local_rendezvous.cc:421] Local rendezvous recv item cancelled. Key hash: 13264782007972334520\n",
      "2024-05-11 21:27:52.672238: I tensorflow/core/framework/local_rendezvous.cc:421] Local rendezvous recv item cancelled. Key hash: 17905122389668007536\n",
      "2024-05-11 21:27:52.672243: I tensorflow/core/framework/local_rendezvous.cc:421] Local rendezvous recv item cancelled. Key hash: 1052793451554280524\n",
      "2024-05-11 21:27:52.672246: I tensorflow/core/framework/local_rendezvous.cc:421] Local rendezvous recv item cancelled. Key hash: 7705075418941675746\n",
      "2024-05-11 21:27:52.672251: I tensorflow/core/framework/local_rendezvous.cc:421] Local rendezvous recv item cancelled. Key hash: 11934516890890197656\n",
      "2024-05-11 21:27:52.672254: I tensorflow/core/framework/local_rendezvous.cc:421] Local rendezvous recv item cancelled. Key hash: 13919587408667966238\n",
      "2024-05-11 21:27:52.672268: I tensorflow/core/framework/local_rendezvous.cc:421] Local rendezvous recv item cancelled. Key hash: 3679565611893398542\n",
      "2024-05-11 21:27:52.672273: I tensorflow/core/framework/local_rendezvous.cc:421] Local rendezvous recv item cancelled. Key hash: 11400796871136770652\n"
     ]
    },
    {
     "ename": "InvalidArgumentError",
     "evalue": "Graph execution error:\n\nDetected at node model_74/user_encoder/concatenate_75/concat defined at (most recent call last):\n  File \"<frozen runpy>\", line 198, in _run_module_as_main\n\n  File \"<frozen runpy>\", line 88, in _run_code\n\n  File \"/Users/sueszli/.local/lib/python3.11/site-packages/ipykernel_launcher.py\", line 18, in <module>\n\n  File \"/Users/sueszli/.local/lib/python3.11/site-packages/traitlets/config/application.py\", line 1075, in launch_instance\n\n  File \"/Users/sueszli/.local/lib/python3.11/site-packages/ipykernel/kernelapp.py\", line 739, in start\n\n  File \"/Users/sueszli/.local/lib/python3.11/site-packages/tornado/platform/asyncio.py\", line 205, in start\n\n  File \"/Users/sueszli/.asdf/installs/python/3.11.9/lib/python3.11/asyncio/base_events.py\", line 608, in run_forever\n\n  File \"/Users/sueszli/.asdf/installs/python/3.11.9/lib/python3.11/asyncio/base_events.py\", line 1936, in _run_once\n\n  File \"/Users/sueszli/.asdf/installs/python/3.11.9/lib/python3.11/asyncio/events.py\", line 84, in _run\n\n  File \"/Users/sueszli/.local/lib/python3.11/site-packages/ipykernel/kernelbase.py\", line 545, in dispatch_queue\n\n  File \"/Users/sueszli/.local/lib/python3.11/site-packages/ipykernel/kernelbase.py\", line 534, in process_one\n\n  File \"/Users/sueszli/.local/lib/python3.11/site-packages/ipykernel/kernelbase.py\", line 437, in dispatch_shell\n\n  File \"/Users/sueszli/.local/lib/python3.11/site-packages/ipykernel/ipkernel.py\", line 362, in execute_request\n\n  File \"/Users/sueszli/.local/lib/python3.11/site-packages/ipykernel/kernelbase.py\", line 778, in execute_request\n\n  File \"/Users/sueszli/.local/lib/python3.11/site-packages/ipykernel/ipkernel.py\", line 449, in do_execute\n\n  File \"/Users/sueszli/.local/lib/python3.11/site-packages/ipykernel/zmqshell.py\", line 549, in run_cell\n\n  File \"/Users/sueszli/.asdf/installs/python/3.11.9/lib/python3.11/site-packages/IPython/core/interactiveshell.py\", line 3075, in run_cell\n\n  File \"/Users/sueszli/.asdf/installs/python/3.11.9/lib/python3.11/site-packages/IPython/core/interactiveshell.py\", line 3130, in _run_cell\n\n  File \"/Users/sueszli/.asdf/installs/python/3.11.9/lib/python3.11/site-packages/IPython/core/async_helpers.py\", line 129, in _pseudo_sync_runner\n\n  File \"/Users/sueszli/.asdf/installs/python/3.11.9/lib/python3.11/site-packages/IPython/core/interactiveshell.py\", line 3334, in run_cell_async\n\n  File \"/Users/sueszli/.asdf/installs/python/3.11.9/lib/python3.11/site-packages/IPython/core/interactiveshell.py\", line 3517, in run_ast_nodes\n\n  File \"/Users/sueszli/.asdf/installs/python/3.11.9/lib/python3.11/site-packages/IPython/core/interactiveshell.py\", line 3577, in run_code\n\n  File \"/var/folders/g6/xn7nvvtn4ng5pf9bhxfs7p2m0000gn/T/ipykernel_22665/1286777098.py\", line 17, in <module>\n\n  File \"/Users/sueszli/.asdf/installs/python/3.11.9/lib/python3.11/site-packages/keras/src/utils/traceback_utils.py\", line 65, in error_handler\n\n  File \"/Users/sueszli/.asdf/installs/python/3.11.9/lib/python3.11/site-packages/keras/src/engine/training.py\", line 1807, in fit\n\n  File \"/Users/sueszli/.asdf/installs/python/3.11.9/lib/python3.11/site-packages/keras/src/engine/training.py\", line 1401, in train_function\n\n  File \"/Users/sueszli/.asdf/installs/python/3.11.9/lib/python3.11/site-packages/keras/src/engine/training.py\", line 1384, in step_function\n\n  File \"/Users/sueszli/.asdf/installs/python/3.11.9/lib/python3.11/site-packages/keras/src/engine/training.py\", line 1373, in run_step\n\n  File \"/Users/sueszli/.asdf/installs/python/3.11.9/lib/python3.11/site-packages/keras/src/engine/training.py\", line 1150, in train_step\n\n  File \"/Users/sueszli/.asdf/installs/python/3.11.9/lib/python3.11/site-packages/keras/src/utils/traceback_utils.py\", line 65, in error_handler\n\n  File \"/Users/sueszli/.asdf/installs/python/3.11.9/lib/python3.11/site-packages/keras/src/engine/training.py\", line 590, in __call__\n\n  File \"/Users/sueszli/.asdf/installs/python/3.11.9/lib/python3.11/site-packages/keras/src/utils/traceback_utils.py\", line 65, in error_handler\n\n  File \"/Users/sueszli/.asdf/installs/python/3.11.9/lib/python3.11/site-packages/keras/src/engine/base_layer.py\", line 1149, in __call__\n\n  File \"/Users/sueszli/.asdf/installs/python/3.11.9/lib/python3.11/site-packages/keras/src/utils/traceback_utils.py\", line 96, in error_handler\n\n  File \"/Users/sueszli/.asdf/installs/python/3.11.9/lib/python3.11/site-packages/keras/src/engine/functional.py\", line 515, in call\n\n  File \"/Users/sueszli/.asdf/installs/python/3.11.9/lib/python3.11/site-packages/keras/src/engine/functional.py\", line 672, in _run_internal_graph\n\n  File \"/Users/sueszli/.asdf/installs/python/3.11.9/lib/python3.11/site-packages/keras/src/utils/traceback_utils.py\", line 65, in error_handler\n\n  File \"/Users/sueszli/.asdf/installs/python/3.11.9/lib/python3.11/site-packages/keras/src/engine/training.py\", line 590, in __call__\n\n  File \"/Users/sueszli/.asdf/installs/python/3.11.9/lib/python3.11/site-packages/keras/src/utils/traceback_utils.py\", line 65, in error_handler\n\n  File \"/Users/sueszli/.asdf/installs/python/3.11.9/lib/python3.11/site-packages/keras/src/engine/base_layer.py\", line 1149, in __call__\n\n  File \"/Users/sueszli/.asdf/installs/python/3.11.9/lib/python3.11/site-packages/keras/src/utils/traceback_utils.py\", line 96, in error_handler\n\n  File \"/Users/sueszli/.asdf/installs/python/3.11.9/lib/python3.11/site-packages/keras/src/engine/functional.py\", line 515, in call\n\n  File \"/Users/sueszli/.asdf/installs/python/3.11.9/lib/python3.11/site-packages/keras/src/engine/functional.py\", line 672, in _run_internal_graph\n\n  File \"/Users/sueszli/.asdf/installs/python/3.11.9/lib/python3.11/site-packages/keras/src/utils/traceback_utils.py\", line 65, in error_handler\n\n  File \"/Users/sueszli/.asdf/installs/python/3.11.9/lib/python3.11/site-packages/keras/src/engine/base_layer.py\", line 1149, in __call__\n\n  File \"/Users/sueszli/.asdf/installs/python/3.11.9/lib/python3.11/site-packages/keras/src/utils/traceback_utils.py\", line 96, in error_handler\n\n  File \"/Users/sueszli/.asdf/installs/python/3.11.9/lib/python3.11/site-packages/keras/src/layers/merging/base_merge.py\", line 196, in call\n\n  File \"/Users/sueszli/.asdf/installs/python/3.11.9/lib/python3.11/site-packages/keras/src/layers/merging/concatenate.py\", line 134, in _merge_function\n\n  File \"/Users/sueszli/.asdf/installs/python/3.11.9/lib/python3.11/site-packages/keras/src/backend.py\", line 3580, in concatenate\n\nDetected at node model_74/user_encoder/concatenate_75/concat defined at (most recent call last):\n  File \"<frozen runpy>\", line 198, in _run_module_as_main\n\n  File \"<frozen runpy>\", line 88, in _run_code\n\n  File \"/Users/sueszli/.local/lib/python3.11/site-packages/ipykernel_launcher.py\", line 18, in <module>\n\n  File \"/Users/sueszli/.local/lib/python3.11/site-packages/traitlets/config/application.py\", line 1075, in launch_instance\n\n  File \"/Users/sueszli/.local/lib/python3.11/site-packages/ipykernel/kernelapp.py\", line 739, in start\n\n  File \"/Users/sueszli/.local/lib/python3.11/site-packages/tornado/platform/asyncio.py\", line 205, in start\n\n  File \"/Users/sueszli/.asdf/installs/python/3.11.9/lib/python3.11/asyncio/base_events.py\", line 608, in run_forever\n\n  File \"/Users/sueszli/.asdf/installs/python/3.11.9/lib/python3.11/asyncio/base_events.py\", line 1936, in _run_once\n\n  File \"/Users/sueszli/.asdf/installs/python/3.11.9/lib/python3.11/asyncio/events.py\", line 84, in _run\n\n  File \"/Users/sueszli/.local/lib/python3.11/site-packages/ipykernel/kernelbase.py\", line 545, in dispatch_queue\n\n  File \"/Users/sueszli/.local/lib/python3.11/site-packages/ipykernel/kernelbase.py\", line 534, in process_one\n\n  File \"/Users/sueszli/.local/lib/python3.11/site-packages/ipykernel/kernelbase.py\", line 437, in dispatch_shell\n\n  File \"/Users/sueszli/.local/lib/python3.11/site-packages/ipykernel/ipkernel.py\", line 362, in execute_request\n\n  File \"/Users/sueszli/.local/lib/python3.11/site-packages/ipykernel/kernelbase.py\", line 778, in execute_request\n\n  File \"/Users/sueszli/.local/lib/python3.11/site-packages/ipykernel/ipkernel.py\", line 449, in do_execute\n\n  File \"/Users/sueszli/.local/lib/python3.11/site-packages/ipykernel/zmqshell.py\", line 549, in run_cell\n\n  File \"/Users/sueszli/.asdf/installs/python/3.11.9/lib/python3.11/site-packages/IPython/core/interactiveshell.py\", line 3075, in run_cell\n\n  File \"/Users/sueszli/.asdf/installs/python/3.11.9/lib/python3.11/site-packages/IPython/core/interactiveshell.py\", line 3130, in _run_cell\n\n  File \"/Users/sueszli/.asdf/installs/python/3.11.9/lib/python3.11/site-packages/IPython/core/async_helpers.py\", line 129, in _pseudo_sync_runner\n\n  File \"/Users/sueszli/.asdf/installs/python/3.11.9/lib/python3.11/site-packages/IPython/core/interactiveshell.py\", line 3334, in run_cell_async\n\n  File \"/Users/sueszli/.asdf/installs/python/3.11.9/lib/python3.11/site-packages/IPython/core/interactiveshell.py\", line 3517, in run_ast_nodes\n\n  File \"/Users/sueszli/.asdf/installs/python/3.11.9/lib/python3.11/site-packages/IPython/core/interactiveshell.py\", line 3577, in run_code\n\n  File \"/var/folders/g6/xn7nvvtn4ng5pf9bhxfs7p2m0000gn/T/ipykernel_22665/1286777098.py\", line 17, in <module>\n\n  File \"/Users/sueszli/.asdf/installs/python/3.11.9/lib/python3.11/site-packages/keras/src/utils/traceback_utils.py\", line 65, in error_handler\n\n  File \"/Users/sueszli/.asdf/installs/python/3.11.9/lib/python3.11/site-packages/keras/src/engine/training.py\", line 1807, in fit\n\n  File \"/Users/sueszli/.asdf/installs/python/3.11.9/lib/python3.11/site-packages/keras/src/engine/training.py\", line 1401, in train_function\n\n  File \"/Users/sueszli/.asdf/installs/python/3.11.9/lib/python3.11/site-packages/keras/src/engine/training.py\", line 1384, in step_function\n\n  File \"/Users/sueszli/.asdf/installs/python/3.11.9/lib/python3.11/site-packages/keras/src/engine/training.py\", line 1373, in run_step\n\n  File \"/Users/sueszli/.asdf/installs/python/3.11.9/lib/python3.11/site-packages/keras/src/engine/training.py\", line 1150, in train_step\n\n  File \"/Users/sueszli/.asdf/installs/python/3.11.9/lib/python3.11/site-packages/keras/src/utils/traceback_utils.py\", line 65, in error_handler\n\n  File \"/Users/sueszli/.asdf/installs/python/3.11.9/lib/python3.11/site-packages/keras/src/engine/training.py\", line 590, in __call__\n\n  File \"/Users/sueszli/.asdf/installs/python/3.11.9/lib/python3.11/site-packages/keras/src/utils/traceback_utils.py\", line 65, in error_handler\n\n  File \"/Users/sueszli/.asdf/installs/python/3.11.9/lib/python3.11/site-packages/keras/src/engine/base_layer.py\", line 1149, in __call__\n\n  File \"/Users/sueszli/.asdf/installs/python/3.11.9/lib/python3.11/site-packages/keras/src/utils/traceback_utils.py\", line 96, in error_handler\n\n  File \"/Users/sueszli/.asdf/installs/python/3.11.9/lib/python3.11/site-packages/keras/src/engine/functional.py\", line 515, in call\n\n  File \"/Users/sueszli/.asdf/installs/python/3.11.9/lib/python3.11/site-packages/keras/src/engine/functional.py\", line 672, in _run_internal_graph\n\n  File \"/Users/sueszli/.asdf/installs/python/3.11.9/lib/python3.11/site-packages/keras/src/utils/traceback_utils.py\", line 65, in error_handler\n\n  File \"/Users/sueszli/.asdf/installs/python/3.11.9/lib/python3.11/site-packages/keras/src/engine/training.py\", line 590, in __call__\n\n  File \"/Users/sueszli/.asdf/installs/python/3.11.9/lib/python3.11/site-packages/keras/src/utils/traceback_utils.py\", line 65, in error_handler\n\n  File \"/Users/sueszli/.asdf/installs/python/3.11.9/lib/python3.11/site-packages/keras/src/engine/base_layer.py\", line 1149, in __call__\n\n  File \"/Users/sueszli/.asdf/installs/python/3.11.9/lib/python3.11/site-packages/keras/src/utils/traceback_utils.py\", line 96, in error_handler\n\n  File \"/Users/sueszli/.asdf/installs/python/3.11.9/lib/python3.11/site-packages/keras/src/engine/functional.py\", line 515, in call\n\n  File \"/Users/sueszli/.asdf/installs/python/3.11.9/lib/python3.11/site-packages/keras/src/engine/functional.py\", line 672, in _run_internal_graph\n\n  File \"/Users/sueszli/.asdf/installs/python/3.11.9/lib/python3.11/site-packages/keras/src/utils/traceback_utils.py\", line 65, in error_handler\n\n  File \"/Users/sueszli/.asdf/installs/python/3.11.9/lib/python3.11/site-packages/keras/src/engine/base_layer.py\", line 1149, in __call__\n\n  File \"/Users/sueszli/.asdf/installs/python/3.11.9/lib/python3.11/site-packages/keras/src/utils/traceback_utils.py\", line 96, in error_handler\n\n  File \"/Users/sueszli/.asdf/installs/python/3.11.9/lib/python3.11/site-packages/keras/src/layers/merging/base_merge.py\", line 196, in call\n\n  File \"/Users/sueszli/.asdf/installs/python/3.11.9/lib/python3.11/site-packages/keras/src/layers/merging/concatenate.py\", line 134, in _merge_function\n\n  File \"/Users/sueszli/.asdf/installs/python/3.11.9/lib/python3.11/site-packages/keras/src/backend.py\", line 3580, in concatenate\n\n2 root error(s) found.\n  (0) INVALID_ARGUMENT:  ConcatOp : Dimension 1 in both shapes must be equal: shape[0] = [64,30,30] vs. shape[1] = [64,50,1]\n\t [[{{node model_74/user_encoder/concatenate_75/concat}}]]\n\t [[Adam/ReadVariableOp_22/_12]]\n  (1) INVALID_ARGUMENT:  ConcatOp : Dimension 1 in both shapes must be equal: shape[0] = [64,30,30] vs. shape[1] = [64,50,1]\n\t [[{{node model_74/user_encoder/concatenate_75/concat}}]]\n0 successful operations.\n0 derived errors ignored. [Op:__inference_train_function_80383]",
     "output_type": "error",
     "traceback": [
      "\u001b[0;31m---------------------------------------------------------------------------\u001b[0m",
      "\u001b[0;31mInvalidArgumentError\u001b[0m                      Traceback (most recent call last)",
      "Cell \u001b[0;32mIn[23], line 17\u001b[0m\n\u001b[1;32m     15\u001b[0m model \u001b[38;5;241m=\u001b[39m NPAModel(hparams\u001b[38;5;241m=\u001b[39mconfig, word2vec_embedding\u001b[38;5;241m=\u001b[39mword2vec_embedding, seed\u001b[38;5;241m=\u001b[39m\u001b[38;5;241m42\u001b[39m)\n\u001b[1;32m     16\u001b[0m \u001b[38;5;66;03m# model.model.summary()\u001b[39;00m\n\u001b[0;32m---> 17\u001b[0m hist \u001b[38;5;241m=\u001b[39m \u001b[43mmodel\u001b[49m\u001b[38;5;241;43m.\u001b[39;49m\u001b[43mmodel\u001b[49m\u001b[38;5;241;43m.\u001b[39;49m\u001b[43mfit\u001b[49m\u001b[43m(\u001b[49m\n\u001b[1;32m     18\u001b[0m \u001b[43m    \u001b[49m\u001b[43mtrain_dataloader\u001b[49m\u001b[43m,\u001b[49m\n\u001b[1;32m     19\u001b[0m \u001b[43m    \u001b[49m\u001b[43mvalidation_data\u001b[49m\u001b[38;5;241;43m=\u001b[39;49m\u001b[43mval_dataloader\u001b[49m\u001b[43m,\u001b[49m\n\u001b[1;32m     20\u001b[0m \u001b[43m    \u001b[49m\u001b[38;5;66;43;03m# epochs=1,\u001b[39;49;00m\n\u001b[1;32m     21\u001b[0m \u001b[43m    \u001b[49m\u001b[43mcallbacks\u001b[49m\u001b[38;5;241;43m=\u001b[39;49m\u001b[43m[\u001b[49m\u001b[43mtensorboard_callback\u001b[49m\u001b[43m,\u001b[49m\u001b[43m \u001b[49m\u001b[43mearly_stopping_callback\u001b[49m\u001b[43m,\u001b[49m\u001b[43m \u001b[49m\u001b[43mmodelcheckpoint_callback\u001b[49m\u001b[43m]\u001b[49m\u001b[43m,\u001b[49m\n\u001b[1;32m     22\u001b[0m \u001b[43m)\u001b[49m\n\u001b[1;32m     23\u001b[0m model\u001b[38;5;241m.\u001b[39mmodel\u001b[38;5;241m.\u001b[39mload_weights(filepath\u001b[38;5;241m=\u001b[39mMODEL_WEIGHTS)\n",
      "File \u001b[0;32m~/.asdf/installs/python/3.11.9/lib/python3.11/site-packages/keras/src/utils/traceback_utils.py:70\u001b[0m, in \u001b[0;36mfilter_traceback.<locals>.error_handler\u001b[0;34m(*args, **kwargs)\u001b[0m\n\u001b[1;32m     67\u001b[0m     filtered_tb \u001b[38;5;241m=\u001b[39m _process_traceback_frames(e\u001b[38;5;241m.\u001b[39m__traceback__)\n\u001b[1;32m     68\u001b[0m     \u001b[38;5;66;03m# To get the full stack trace, call:\u001b[39;00m\n\u001b[1;32m     69\u001b[0m     \u001b[38;5;66;03m# `tf.debugging.disable_traceback_filtering()`\u001b[39;00m\n\u001b[0;32m---> 70\u001b[0m     \u001b[38;5;28;01mraise\u001b[39;00m e\u001b[38;5;241m.\u001b[39mwith_traceback(filtered_tb) \u001b[38;5;28;01mfrom\u001b[39;00m \u001b[38;5;28;01mNone\u001b[39;00m\n\u001b[1;32m     71\u001b[0m \u001b[38;5;28;01mfinally\u001b[39;00m:\n\u001b[1;32m     72\u001b[0m     \u001b[38;5;28;01mdel\u001b[39;00m filtered_tb\n",
      "File \u001b[0;32m~/.asdf/installs/python/3.11.9/lib/python3.11/site-packages/tensorflow/python/eager/execute.py:53\u001b[0m, in \u001b[0;36mquick_execute\u001b[0;34m(op_name, num_outputs, inputs, attrs, ctx, name)\u001b[0m\n\u001b[1;32m     51\u001b[0m \u001b[38;5;28;01mtry\u001b[39;00m:\n\u001b[1;32m     52\u001b[0m   ctx\u001b[38;5;241m.\u001b[39mensure_initialized()\n\u001b[0;32m---> 53\u001b[0m   tensors \u001b[38;5;241m=\u001b[39m pywrap_tfe\u001b[38;5;241m.\u001b[39mTFE_Py_Execute(ctx\u001b[38;5;241m.\u001b[39m_handle, device_name, op_name,\n\u001b[1;32m     54\u001b[0m                                       inputs, attrs, num_outputs)\n\u001b[1;32m     55\u001b[0m \u001b[38;5;28;01mexcept\u001b[39;00m core\u001b[38;5;241m.\u001b[39m_NotOkStatusException \u001b[38;5;28;01mas\u001b[39;00m e:\n\u001b[1;32m     56\u001b[0m   \u001b[38;5;28;01mif\u001b[39;00m name \u001b[38;5;129;01mis\u001b[39;00m \u001b[38;5;129;01mnot\u001b[39;00m \u001b[38;5;28;01mNone\u001b[39;00m:\n",
      "\u001b[0;31mInvalidArgumentError\u001b[0m: Graph execution error:\n\nDetected at node model_74/user_encoder/concatenate_75/concat defined at (most recent call last):\n  File \"<frozen runpy>\", line 198, in _run_module_as_main\n\n  File \"<frozen runpy>\", line 88, in _run_code\n\n  File \"/Users/sueszli/.local/lib/python3.11/site-packages/ipykernel_launcher.py\", line 18, in <module>\n\n  File \"/Users/sueszli/.local/lib/python3.11/site-packages/traitlets/config/application.py\", line 1075, in launch_instance\n\n  File \"/Users/sueszli/.local/lib/python3.11/site-packages/ipykernel/kernelapp.py\", line 739, in start\n\n  File \"/Users/sueszli/.local/lib/python3.11/site-packages/tornado/platform/asyncio.py\", line 205, in start\n\n  File \"/Users/sueszli/.asdf/installs/python/3.11.9/lib/python3.11/asyncio/base_events.py\", line 608, in run_forever\n\n  File \"/Users/sueszli/.asdf/installs/python/3.11.9/lib/python3.11/asyncio/base_events.py\", line 1936, in _run_once\n\n  File \"/Users/sueszli/.asdf/installs/python/3.11.9/lib/python3.11/asyncio/events.py\", line 84, in _run\n\n  File \"/Users/sueszli/.local/lib/python3.11/site-packages/ipykernel/kernelbase.py\", line 545, in dispatch_queue\n\n  File \"/Users/sueszli/.local/lib/python3.11/site-packages/ipykernel/kernelbase.py\", line 534, in process_one\n\n  File \"/Users/sueszli/.local/lib/python3.11/site-packages/ipykernel/kernelbase.py\", line 437, in dispatch_shell\n\n  File \"/Users/sueszli/.local/lib/python3.11/site-packages/ipykernel/ipkernel.py\", line 362, in execute_request\n\n  File \"/Users/sueszli/.local/lib/python3.11/site-packages/ipykernel/kernelbase.py\", line 778, in execute_request\n\n  File \"/Users/sueszli/.local/lib/python3.11/site-packages/ipykernel/ipkernel.py\", line 449, in do_execute\n\n  File \"/Users/sueszli/.local/lib/python3.11/site-packages/ipykernel/zmqshell.py\", line 549, in run_cell\n\n  File \"/Users/sueszli/.asdf/installs/python/3.11.9/lib/python3.11/site-packages/IPython/core/interactiveshell.py\", line 3075, in run_cell\n\n  File \"/Users/sueszli/.asdf/installs/python/3.11.9/lib/python3.11/site-packages/IPython/core/interactiveshell.py\", line 3130, in _run_cell\n\n  File \"/Users/sueszli/.asdf/installs/python/3.11.9/lib/python3.11/site-packages/IPython/core/async_helpers.py\", line 129, in _pseudo_sync_runner\n\n  File \"/Users/sueszli/.asdf/installs/python/3.11.9/lib/python3.11/site-packages/IPython/core/interactiveshell.py\", line 3334, in run_cell_async\n\n  File \"/Users/sueszli/.asdf/installs/python/3.11.9/lib/python3.11/site-packages/IPython/core/interactiveshell.py\", line 3517, in run_ast_nodes\n\n  File \"/Users/sueszli/.asdf/installs/python/3.11.9/lib/python3.11/site-packages/IPython/core/interactiveshell.py\", line 3577, in run_code\n\n  File \"/var/folders/g6/xn7nvvtn4ng5pf9bhxfs7p2m0000gn/T/ipykernel_22665/1286777098.py\", line 17, in <module>\n\n  File \"/Users/sueszli/.asdf/installs/python/3.11.9/lib/python3.11/site-packages/keras/src/utils/traceback_utils.py\", line 65, in error_handler\n\n  File \"/Users/sueszli/.asdf/installs/python/3.11.9/lib/python3.11/site-packages/keras/src/engine/training.py\", line 1807, in fit\n\n  File \"/Users/sueszli/.asdf/installs/python/3.11.9/lib/python3.11/site-packages/keras/src/engine/training.py\", line 1401, in train_function\n\n  File \"/Users/sueszli/.asdf/installs/python/3.11.9/lib/python3.11/site-packages/keras/src/engine/training.py\", line 1384, in step_function\n\n  File \"/Users/sueszli/.asdf/installs/python/3.11.9/lib/python3.11/site-packages/keras/src/engine/training.py\", line 1373, in run_step\n\n  File \"/Users/sueszli/.asdf/installs/python/3.11.9/lib/python3.11/site-packages/keras/src/engine/training.py\", line 1150, in train_step\n\n  File \"/Users/sueszli/.asdf/installs/python/3.11.9/lib/python3.11/site-packages/keras/src/utils/traceback_utils.py\", line 65, in error_handler\n\n  File \"/Users/sueszli/.asdf/installs/python/3.11.9/lib/python3.11/site-packages/keras/src/engine/training.py\", line 590, in __call__\n\n  File \"/Users/sueszli/.asdf/installs/python/3.11.9/lib/python3.11/site-packages/keras/src/utils/traceback_utils.py\", line 65, in error_handler\n\n  File \"/Users/sueszli/.asdf/installs/python/3.11.9/lib/python3.11/site-packages/keras/src/engine/base_layer.py\", line 1149, in __call__\n\n  File \"/Users/sueszli/.asdf/installs/python/3.11.9/lib/python3.11/site-packages/keras/src/utils/traceback_utils.py\", line 96, in error_handler\n\n  File \"/Users/sueszli/.asdf/installs/python/3.11.9/lib/python3.11/site-packages/keras/src/engine/functional.py\", line 515, in call\n\n  File \"/Users/sueszli/.asdf/installs/python/3.11.9/lib/python3.11/site-packages/keras/src/engine/functional.py\", line 672, in _run_internal_graph\n\n  File \"/Users/sueszli/.asdf/installs/python/3.11.9/lib/python3.11/site-packages/keras/src/utils/traceback_utils.py\", line 65, in error_handler\n\n  File \"/Users/sueszli/.asdf/installs/python/3.11.9/lib/python3.11/site-packages/keras/src/engine/training.py\", line 590, in __call__\n\n  File \"/Users/sueszli/.asdf/installs/python/3.11.9/lib/python3.11/site-packages/keras/src/utils/traceback_utils.py\", line 65, in error_handler\n\n  File \"/Users/sueszli/.asdf/installs/python/3.11.9/lib/python3.11/site-packages/keras/src/engine/base_layer.py\", line 1149, in __call__\n\n  File \"/Users/sueszli/.asdf/installs/python/3.11.9/lib/python3.11/site-packages/keras/src/utils/traceback_utils.py\", line 96, in error_handler\n\n  File \"/Users/sueszli/.asdf/installs/python/3.11.9/lib/python3.11/site-packages/keras/src/engine/functional.py\", line 515, in call\n\n  File \"/Users/sueszli/.asdf/installs/python/3.11.9/lib/python3.11/site-packages/keras/src/engine/functional.py\", line 672, in _run_internal_graph\n\n  File \"/Users/sueszli/.asdf/installs/python/3.11.9/lib/python3.11/site-packages/keras/src/utils/traceback_utils.py\", line 65, in error_handler\n\n  File \"/Users/sueszli/.asdf/installs/python/3.11.9/lib/python3.11/site-packages/keras/src/engine/base_layer.py\", line 1149, in __call__\n\n  File \"/Users/sueszli/.asdf/installs/python/3.11.9/lib/python3.11/site-packages/keras/src/utils/traceback_utils.py\", line 96, in error_handler\n\n  File \"/Users/sueszli/.asdf/installs/python/3.11.9/lib/python3.11/site-packages/keras/src/layers/merging/base_merge.py\", line 196, in call\n\n  File \"/Users/sueszli/.asdf/installs/python/3.11.9/lib/python3.11/site-packages/keras/src/layers/merging/concatenate.py\", line 134, in _merge_function\n\n  File \"/Users/sueszli/.asdf/installs/python/3.11.9/lib/python3.11/site-packages/keras/src/backend.py\", line 3580, in concatenate\n\nDetected at node model_74/user_encoder/concatenate_75/concat defined at (most recent call last):\n  File \"<frozen runpy>\", line 198, in _run_module_as_main\n\n  File \"<frozen runpy>\", line 88, in _run_code\n\n  File \"/Users/sueszli/.local/lib/python3.11/site-packages/ipykernel_launcher.py\", line 18, in <module>\n\n  File \"/Users/sueszli/.local/lib/python3.11/site-packages/traitlets/config/application.py\", line 1075, in launch_instance\n\n  File \"/Users/sueszli/.local/lib/python3.11/site-packages/ipykernel/kernelapp.py\", line 739, in start\n\n  File \"/Users/sueszli/.local/lib/python3.11/site-packages/tornado/platform/asyncio.py\", line 205, in start\n\n  File \"/Users/sueszli/.asdf/installs/python/3.11.9/lib/python3.11/asyncio/base_events.py\", line 608, in run_forever\n\n  File \"/Users/sueszli/.asdf/installs/python/3.11.9/lib/python3.11/asyncio/base_events.py\", line 1936, in _run_once\n\n  File \"/Users/sueszli/.asdf/installs/python/3.11.9/lib/python3.11/asyncio/events.py\", line 84, in _run\n\n  File \"/Users/sueszli/.local/lib/python3.11/site-packages/ipykernel/kernelbase.py\", line 545, in dispatch_queue\n\n  File \"/Users/sueszli/.local/lib/python3.11/site-packages/ipykernel/kernelbase.py\", line 534, in process_one\n\n  File \"/Users/sueszli/.local/lib/python3.11/site-packages/ipykernel/kernelbase.py\", line 437, in dispatch_shell\n\n  File \"/Users/sueszli/.local/lib/python3.11/site-packages/ipykernel/ipkernel.py\", line 362, in execute_request\n\n  File \"/Users/sueszli/.local/lib/python3.11/site-packages/ipykernel/kernelbase.py\", line 778, in execute_request\n\n  File \"/Users/sueszli/.local/lib/python3.11/site-packages/ipykernel/ipkernel.py\", line 449, in do_execute\n\n  File \"/Users/sueszli/.local/lib/python3.11/site-packages/ipykernel/zmqshell.py\", line 549, in run_cell\n\n  File \"/Users/sueszli/.asdf/installs/python/3.11.9/lib/python3.11/site-packages/IPython/core/interactiveshell.py\", line 3075, in run_cell\n\n  File \"/Users/sueszli/.asdf/installs/python/3.11.9/lib/python3.11/site-packages/IPython/core/interactiveshell.py\", line 3130, in _run_cell\n\n  File \"/Users/sueszli/.asdf/installs/python/3.11.9/lib/python3.11/site-packages/IPython/core/async_helpers.py\", line 129, in _pseudo_sync_runner\n\n  File \"/Users/sueszli/.asdf/installs/python/3.11.9/lib/python3.11/site-packages/IPython/core/interactiveshell.py\", line 3334, in run_cell_async\n\n  File \"/Users/sueszli/.asdf/installs/python/3.11.9/lib/python3.11/site-packages/IPython/core/interactiveshell.py\", line 3517, in run_ast_nodes\n\n  File \"/Users/sueszli/.asdf/installs/python/3.11.9/lib/python3.11/site-packages/IPython/core/interactiveshell.py\", line 3577, in run_code\n\n  File \"/var/folders/g6/xn7nvvtn4ng5pf9bhxfs7p2m0000gn/T/ipykernel_22665/1286777098.py\", line 17, in <module>\n\n  File \"/Users/sueszli/.asdf/installs/python/3.11.9/lib/python3.11/site-packages/keras/src/utils/traceback_utils.py\", line 65, in error_handler\n\n  File \"/Users/sueszli/.asdf/installs/python/3.11.9/lib/python3.11/site-packages/keras/src/engine/training.py\", line 1807, in fit\n\n  File \"/Users/sueszli/.asdf/installs/python/3.11.9/lib/python3.11/site-packages/keras/src/engine/training.py\", line 1401, in train_function\n\n  File \"/Users/sueszli/.asdf/installs/python/3.11.9/lib/python3.11/site-packages/keras/src/engine/training.py\", line 1384, in step_function\n\n  File \"/Users/sueszli/.asdf/installs/python/3.11.9/lib/python3.11/site-packages/keras/src/engine/training.py\", line 1373, in run_step\n\n  File \"/Users/sueszli/.asdf/installs/python/3.11.9/lib/python3.11/site-packages/keras/src/engine/training.py\", line 1150, in train_step\n\n  File \"/Users/sueszli/.asdf/installs/python/3.11.9/lib/python3.11/site-packages/keras/src/utils/traceback_utils.py\", line 65, in error_handler\n\n  File \"/Users/sueszli/.asdf/installs/python/3.11.9/lib/python3.11/site-packages/keras/src/engine/training.py\", line 590, in __call__\n\n  File \"/Users/sueszli/.asdf/installs/python/3.11.9/lib/python3.11/site-packages/keras/src/utils/traceback_utils.py\", line 65, in error_handler\n\n  File \"/Users/sueszli/.asdf/installs/python/3.11.9/lib/python3.11/site-packages/keras/src/engine/base_layer.py\", line 1149, in __call__\n\n  File \"/Users/sueszli/.asdf/installs/python/3.11.9/lib/python3.11/site-packages/keras/src/utils/traceback_utils.py\", line 96, in error_handler\n\n  File \"/Users/sueszli/.asdf/installs/python/3.11.9/lib/python3.11/site-packages/keras/src/engine/functional.py\", line 515, in call\n\n  File \"/Users/sueszli/.asdf/installs/python/3.11.9/lib/python3.11/site-packages/keras/src/engine/functional.py\", line 672, in _run_internal_graph\n\n  File \"/Users/sueszli/.asdf/installs/python/3.11.9/lib/python3.11/site-packages/keras/src/utils/traceback_utils.py\", line 65, in error_handler\n\n  File \"/Users/sueszli/.asdf/installs/python/3.11.9/lib/python3.11/site-packages/keras/src/engine/training.py\", line 590, in __call__\n\n  File \"/Users/sueszli/.asdf/installs/python/3.11.9/lib/python3.11/site-packages/keras/src/utils/traceback_utils.py\", line 65, in error_handler\n\n  File \"/Users/sueszli/.asdf/installs/python/3.11.9/lib/python3.11/site-packages/keras/src/engine/base_layer.py\", line 1149, in __call__\n\n  File \"/Users/sueszli/.asdf/installs/python/3.11.9/lib/python3.11/site-packages/keras/src/utils/traceback_utils.py\", line 96, in error_handler\n\n  File \"/Users/sueszli/.asdf/installs/python/3.11.9/lib/python3.11/site-packages/keras/src/engine/functional.py\", line 515, in call\n\n  File \"/Users/sueszli/.asdf/installs/python/3.11.9/lib/python3.11/site-packages/keras/src/engine/functional.py\", line 672, in _run_internal_graph\n\n  File \"/Users/sueszli/.asdf/installs/python/3.11.9/lib/python3.11/site-packages/keras/src/utils/traceback_utils.py\", line 65, in error_handler\n\n  File \"/Users/sueszli/.asdf/installs/python/3.11.9/lib/python3.11/site-packages/keras/src/engine/base_layer.py\", line 1149, in __call__\n\n  File \"/Users/sueszli/.asdf/installs/python/3.11.9/lib/python3.11/site-packages/keras/src/utils/traceback_utils.py\", line 96, in error_handler\n\n  File \"/Users/sueszli/.asdf/installs/python/3.11.9/lib/python3.11/site-packages/keras/src/layers/merging/base_merge.py\", line 196, in call\n\n  File \"/Users/sueszli/.asdf/installs/python/3.11.9/lib/python3.11/site-packages/keras/src/layers/merging/concatenate.py\", line 134, in _merge_function\n\n  File \"/Users/sueszli/.asdf/installs/python/3.11.9/lib/python3.11/site-packages/keras/src/backend.py\", line 3580, in concatenate\n\n2 root error(s) found.\n  (0) INVALID_ARGUMENT:  ConcatOp : Dimension 1 in both shapes must be equal: shape[0] = [64,30,30] vs. shape[1] = [64,50,1]\n\t [[{{node model_74/user_encoder/concatenate_75/concat}}]]\n\t [[Adam/ReadVariableOp_22/_12]]\n  (1) INVALID_ARGUMENT:  ConcatOp : Dimension 1 in both shapes must be equal: shape[0] = [64,30,30] vs. shape[1] = [64,50,1]\n\t [[{{node model_74/user_encoder/concatenate_75/concat}}]]\n0 successful operations.\n0 derived errors ignored. [Op:__inference_train_function_80383]"
     ]
    }
   ],
   "source": [
    "\"\"\"\n",
    "train model\n",
    "\"\"\"\n",
    "from ebrec.models.newsrec.model_config import hparams_npa\n",
    "from ebrec.models.newsrec.npa import NPAModel\n",
    "\n",
    "MODEL_NAME = \"NPA\"\n",
    "LOG_DIR = f\"../runs/{MODEL_NAME}\"\n",
    "MODEL_WEIGHTS = f\"../runs/data/state_dict/{MODEL_NAME}/weights\"\n",
    "tensorboard_callback = tf.keras.callbacks.TensorBoard(log_dir=LOG_DIR, histogram_freq=1)\n",
    "early_stopping_callback = tf.keras.callbacks.EarlyStopping(monitor=\"val_loss\", patience=2)\n",
    "modelcheckpoint_callback = tf.keras.callbacks.ModelCheckpoint(filepath=MODEL_WEIGHTS, save_best_only=True, save_weights_only=True, verbose=1)\n",
    "\n",
    "config = hparams_npa\n",
    "model = NPAModel(hparams=config, word2vec_embedding=word2vec_embedding, seed=42)\n",
    "# model.model.summary()\n",
    "hist = model.model.fit(\n",
    "    train_dataloader,\n",
    "    validation_data=val_dataloader,\n",
    "    # epochs=1,\n",
    "    callbacks=[tensorboard_callback, early_stopping_callback, modelcheckpoint_callback],\n",
    ")\n",
    "model.model.load_weights(filepath=MODEL_WEIGHTS)\n"
   ]
  },
  {
   "cell_type": "code",
   "execution_count": null,
   "metadata": {},
   "outputs": [
    {
     "name": "stdout",
     "output_type": "stream",
     "text": [
      "4/4 [==============================] - 2s 365ms/step\n"
     ]
    }
   ],
   "source": [
    "\"\"\"\n",
    "evaluate performance\n",
    "\"\"\"\n",
    "\n",
    "pred_validation = model.scorer.predict(val_dataloader)"
   ]
  },
  {
   "cell_type": "code",
   "execution_count": null,
   "metadata": {},
   "outputs": [
    {
     "data": {
      "text/html": [
       "<div><style>\n",
       ".dataframe > thead > tr,\n",
       ".dataframe > tbody > tr {\n",
       "  text-align: right;\n",
       "  white-space: pre-wrap;\n",
       "}\n",
       "</style>\n",
       "<small>shape: (2, 7)</small><table border=\"1\" class=\"dataframe\"><thead><tr><th>user_id</th><th>article_id_fixed</th><th>article_ids_inview</th><th>article_ids_clicked</th><th>labels</th><th>scores</th><th>is_known_user</th></tr><tr><td>u32</td><td>list[i32]</td><td>list[i32]</td><td>list[i32]</td><td>list[i8]</td><td>list[f64]</td><td>bool</td></tr></thead><tbody><tr><td>2094919</td><td>[9773351, 9774187, … 9779860]</td><td>[9780702, 9788188, … 9787499]</td><td>[9787499]</td><td>[0, 0, … 1]</td><td>[0.49845, 0.497381, … 0.497841]</td><td>false</td></tr><tr><td>2029201</td><td>[9778326, 9777941, … 9779738]</td><td>[9783405, 9783852, … 8496358]</td><td>[9783852]</td><td>[0, 1, … 0]</td><td>[0.49801, 0.497147, … 0.498185]</td><td>false</td></tr></tbody></table></div>"
      ],
      "text/plain": [
       "shape: (2, 7)\n",
       "┌─────────┬──────────────┬──────────────┬──────────────┬─────────────┬──────────────┬──────────────┐\n",
       "│ user_id ┆ article_id_f ┆ article_ids_ ┆ article_ids_ ┆ labels      ┆ scores       ┆ is_known_use │\n",
       "│ ---     ┆ ixed         ┆ inview       ┆ clicked      ┆ ---         ┆ ---          ┆ r            │\n",
       "│ u32     ┆ ---          ┆ ---          ┆ ---          ┆ list[i8]    ┆ list[f64]    ┆ ---          │\n",
       "│         ┆ list[i32]    ┆ list[i32]    ┆ list[i32]    ┆             ┆              ┆ bool         │\n",
       "╞═════════╪══════════════╪══════════════╪══════════════╪═════════════╪══════════════╪══════════════╡\n",
       "│ 2094919 ┆ [9773351,    ┆ [9780702,    ┆ [9787499]    ┆ [0, 0, … 1] ┆ [0.49845,    ┆ false        │\n",
       "│         ┆ 9774187, …   ┆ 9788188, …   ┆              ┆             ┆ 0.497381, …  ┆              │\n",
       "│         ┆ 9779860]     ┆ 9787499]     ┆              ┆             ┆ 0.497841]    ┆              │\n",
       "│ 2029201 ┆ [9778326,    ┆ [9783405,    ┆ [9783852]    ┆ [0, 1, … 0] ┆ [0.49801,    ┆ false        │\n",
       "│         ┆ 9777941, …   ┆ 9783852, …   ┆              ┆             ┆ 0.497147, …  ┆              │\n",
       "│         ┆ 9779738]     ┆ 8496358]     ┆              ┆             ┆ 0.498185]    ┆              │\n",
       "└─────────┴──────────────┴──────────────┴──────────────┴─────────────┴──────────────┴──────────────┘"
      ]
     },
     "execution_count": 11,
     "metadata": {},
     "output_type": "execute_result"
    }
   ],
   "source": [
    "df_validation = add_prediction_scores(df_validation, pred_validation.tolist()).pipe(\n",
    "    add_known_user_column, known_users=df_train[DEFAULT_USER_COL]\n",
    ")\n",
    "df_validation.head(2)"
   ]
  },
  {
   "cell_type": "code",
   "execution_count": null,
   "metadata": {},
   "outputs": [
    {
     "data": {
      "text/plain": [
       "<MetricEvaluator class>: \n",
       " {\n",
       "    \"auc\": 0.4832519055489523,\n",
       "    \"mrr\": 0.30877717899621926,\n",
       "    \"ndcg@5\": 0.32656298038911985,\n",
       "    \"ndcg@10\": 0.4381692958258077\n",
       "}"
      ]
     },
     "execution_count": 12,
     "metadata": {},
     "output_type": "execute_result"
    }
   ],
   "source": [
    "from ebrec.evaluation import MetricEvaluator, AucScore, NdcgScore, MrrScore\n",
    "\n",
    "metrics = MetricEvaluator(\n",
    "    labels=df_validation[\"labels\"].to_list(),\n",
    "    predictions=df_validation[\"scores\"].to_list(),\n",
    "    metric_functions=[AucScore(), MrrScore(), NdcgScore(k=5), NdcgScore(k=10)],\n",
    ")\n",
    "metrics.evaluate()"
   ]
  },
  {
   "cell_type": "code",
   "execution_count": null,
   "metadata": {},
   "outputs": [
    {
     "name": "stdout",
     "output_type": "stream",
     "text": [
      "4/4 [==============================] - 3s 329ms/step\n"
     ]
    }
   ],
   "source": [
    "# pred_test = model.scorer.predict(test_dataloader) <--- breaks because of size mismatch\n",
    "pred_test = model.scorer.predict(val_dataloader)\n",
    "\n",
    "# store\n",
    "submission_path = Path(os.getcwd()).parent / \"submissions\" / \"ebnerd_lstur.txt\"\n",
    "with open(submission_path, \"w\") as f:\n",
    "    for idx, row in enumerate(pred_test):\n",
    "        f.write(f\"{idx} {row}\\n\")\n",
    "    f.close()"
   ]
  },
  {
   "cell_type": "code",
   "execution_count": null,
   "metadata": {},
   "outputs": [],
   "source": []
  }
 ],
 "metadata": {
  "kernelspec": {
   "display_name": "Python 3",
   "language": "python",
   "name": "python3"
  },
  "language_info": {
   "codemirror_mode": {
    "name": "ipython",
    "version": 3
   },
   "file_extension": ".py",
   "mimetype": "text/x-python",
   "name": "python",
   "nbconvert_exporter": "python",
   "pygments_lexer": "ipython3",
   "version": "3.11.9"
  }
 },
 "nbformat": 4,
 "nbformat_minor": 2
}
