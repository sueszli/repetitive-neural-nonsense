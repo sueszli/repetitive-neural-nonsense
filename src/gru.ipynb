{
 "cells": [
  {
   "cell_type": "code",
   "execution_count": 1,
   "metadata": {},
   "outputs": [],
   "source": [
    "import numpy as np\n",
    "import polars as pl\n",
    "from ebnerd_benchmark_lib.utils._constants import DEFAULT_USER_COL\n",
    "\n",
    "import os\n",
    "from pathlib import Path\n",
    "\n",
    "\n",
    "data_base = Path(os.getcwd()).parent / \"data-merged\" / \"merged\"\n",
    "train_val_base = data_base / \"1-ebnerd_demo_(20MB)\"\n",
    "# train_val_base = Path(os.getcwd()).parent / \"data-merged\" / \"merged\" / \"3-ebnerd_large_(3.0GB)\"\n",
    "test_base = data_base / \"5-ebnerd_testset_(1.5GB)\"\n",
    "assert train_val_base.exists() and test_base.exists()\n",
    "\n",
    "\n",
    "\"\"\"\n",
    "read in user data\n",
    "\"\"\"\n",
    "\n",
    "tb = pl.scan_parquet(train_val_base / \"train\" / \"behaviors.parquet\")\n",
    "th = pl.scan_parquet(train_val_base / \"train\" / \"history.parquet\")\n",
    "assert list(set(tb.columns).intersection(set(th.columns)))[0] == DEFAULT_USER_COL\n",
    "train_user: pl.LazyFrame = tb.join(th, on=DEFAULT_USER_COL, how=\"inner\")\n",
    "\n",
    "vb: pl.LazyFrame = pl.scan_parquet(train_val_base / \"validation\" / \"behaviors.parquet\")\n",
    "vh: pl.LazyFrame = pl.scan_parquet(train_val_base / \"validation\" / \"history.parquet\")\n",
    "assert list(set(vb.columns).intersection(set(vh.columns)))[0] == DEFAULT_USER_COL\n",
    "val_user: pl.LazyFrame = vb.join(vh, on=DEFAULT_USER_COL, how=\"inner\")\n",
    "\n",
    "trb: pl.LazyFrame = pl.scan_parquet(test_base / \"test\" / \"behaviors.parquet\")\n",
    "trh: pl.LazyFrame = pl.scan_parquet(test_base / \"test\" / \"history.parquet\")\n",
    "assert list(set(trb.columns).intersection(set(trh.columns)))[0] == DEFAULT_USER_COL\n",
    "test_user: pl.LazyFrame = trb.join(trh, on=DEFAULT_USER_COL, how=\"inner\")\n",
    "\n",
    "\n",
    "\"\"\"\n",
    "read in article data\n",
    "\"\"\"\n",
    "\n",
    "train_articles: pl.LazyFrame = pl.scan_parquet(train_val_base / \"articles.parquet\")\n",
    "val_articles: pl.LazyFrame = train_articles\n",
    "test_articles: pl.LazyFrame = pl.scan_parquet(test_base / \"articles.parquet\")\n",
    "\n",
    "articles_word2vec: pl.LazyFrame = pl.scan_parquet(data_base / \"7-Ekstra-Bladet-word2vec_(133MB)\" / \"document_vector.parquet\")\n",
    "articles_image_embeddings: pl.LazyFrame = pl.scan_parquet(data_base / \"8-Ekstra_Bladet_image_embeddings_(372MB)\" / \"image_embeddings.parquet\")\n",
    "articles_contrastive_vector: pl.LazyFrame = pl.scan_parquet(data_base / \"9-Ekstra-Bladet-contrastive_vector_(341MB)\" / \"contrastive_vector.parquet\")\n",
    "articles_bert_base_multilingual_cased: pl.LazyFrame = pl.scan_parquet(data_base / \"10-google-bert-base-multilingual-cased_(344MB)\" / \"bert_base_multilingual_cased.parquet\")\n",
    "articles_xlm_roberta_base: pl.LazyFrame = pl.scan_parquet(data_base / \"11-FacebookAI-xlm-roberta-base_(341MB)\" / \"xlm_roberta_base.parquet\")"
   ]
  },
  {
   "cell_type": "code",
   "execution_count": 2,
   "metadata": {},
   "outputs": [
    {
     "ename": "AttributeError",
     "evalue": "'LazyFrame' object has no attribute 'len'",
     "output_type": "error",
     "traceback": [
      "\u001b[0;31m---------------------------------------------------------------------------\u001b[0m",
      "\u001b[0;31mAttributeError\u001b[0m                            Traceback (most recent call last)",
      "Cell \u001b[0;32mIn[2], line 4\u001b[0m\n\u001b[1;32m      1\u001b[0m train_user\u001b[38;5;241m.\u001b[39mhead(\u001b[38;5;241m5\u001b[39m)\u001b[38;5;241m.\u001b[39mcollect()\n\u001b[1;32m      3\u001b[0m \u001b[38;5;66;03m# num rows\u001b[39;00m\n\u001b[0;32m----> 4\u001b[0m \u001b[43mtrain_user\u001b[49m\u001b[38;5;241;43m.\u001b[39;49m\u001b[43mlen\u001b[49m()\u001b[38;5;241m.\u001b[39mcollect()\n",
      "\u001b[0;31mAttributeError\u001b[0m: 'LazyFrame' object has no attribute 'len'"
     ]
    }
   ],
   "source": [
    "train_user.head(5).collect()\n",
    "\n",
    "# num rows\n",
    "train_user.len().collect()"
   ]
  },
  {
   "cell_type": "code",
   "execution_count": 23,
   "metadata": {},
   "outputs": [],
   "source": [
    "# def print_missing_vals(df: pl.LazyFrame):\n",
    "#     # print num cols\n"
   ]
  },
  {
   "cell_type": "code",
   "execution_count": null,
   "metadata": {},
   "outputs": [],
   "source": []
  }
 ],
 "metadata": {
  "kernelspec": {
   "display_name": "Python 3",
   "language": "python",
   "name": "python3"
  },
  "language_info": {
   "codemirror_mode": {
    "name": "ipython",
    "version": 3
   },
   "file_extension": ".py",
   "mimetype": "text/x-python",
   "name": "python",
   "nbconvert_exporter": "python",
   "pygments_lexer": "ipython3",
   "version": "3.11.9"
  }
 },
 "nbformat": 4,
 "nbformat_minor": 2
}
