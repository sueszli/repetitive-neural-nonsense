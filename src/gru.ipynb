{
 "cells": [
  {
   "cell_type": "code",
   "execution_count": 64,
   "metadata": {},
   "outputs": [
    {
     "data": {
      "text/html": [
       "<div><style>\n",
       ".dataframe > thead > tr,\n",
       ".dataframe > tbody > tr {\n",
       "  text-align: right;\n",
       "  white-space: pre-wrap;\n",
       "}\n",
       "</style>\n",
       "<small>shape: (5, 21)</small><table border=\"1\" class=\"dataframe\"><thead><tr><th>impression_id</th><th>article_id</th><th>impression_time</th><th>read_time</th><th>scroll_percentage</th><th>device_type</th><th>article_ids_inview</th><th>article_ids_clicked</th><th>user_id</th><th>is_sso_user</th><th>gender</th><th>postcode</th><th>age</th><th>is_subscriber</th><th>session_id</th><th>next_read_time</th><th>next_scroll_percentage</th><th>impression_time_fixed</th><th>scroll_percentage_fixed</th><th>article_id_fixed</th><th>read_time_fixed</th></tr><tr><td>u32</td><td>i32</td><td>datetime[μs]</td><td>f32</td><td>f32</td><td>i8</td><td>list[i32]</td><td>list[i32]</td><td>u32</td><td>bool</td><td>i8</td><td>i8</td><td>i8</td><td>bool</td><td>u32</td><td>f32</td><td>f32</td><td>list[datetime[μs]]</td><td>list[f32]</td><td>list[i32]</td><td>list[f32]</td></tr></thead><tbody><tr><td>48401</td><td>null</td><td>2023-05-21 21:06:50</td><td>21.0</td><td>null</td><td>2</td><td>[9774516, 9771051, … 9759966]</td><td>[9759966]</td><td>22779</td><td>false</td><td>null</td><td>null</td><td>null</td><td>false</td><td>21</td><td>16.0</td><td>27.0</td><td>[2023-04-27 09:05:54, 2023-04-27 09:06:09, … 2023-05-18 06:26:39]</td><td>[28.0, 17.0, … 15.0]</td><td>[9738452, 9737521, … 9770541]</td><td>[5.0, 4.0, … 7.0]</td></tr><tr><td>152513</td><td>9778745</td><td>2023-05-24 07:31:26</td><td>30.0</td><td>100.0</td><td>1</td><td>[9778669, 9778736, … 9777397]</td><td>[9778661]</td><td>150224</td><td>false</td><td>null</td><td>null</td><td>null</td><td>false</td><td>298</td><td>2.0</td><td>48.0</td><td>[2023-04-29 11:34:06, 2023-04-29 11:34:25, … 2023-05-18 06:13:47]</td><td>[100.0, 49.0, … 24.0]</td><td>[9740087, 9741986, … 9735909]</td><td>[18.0, 244.0, … 7.0]</td></tr><tr><td>155390</td><td>null</td><td>2023-05-24 07:30:33</td><td>45.0</td><td>null</td><td>1</td><td>[9778369, 9777856, … 9778448]</td><td>[9777856]</td><td>160892</td><td>false</td><td>null</td><td>null</td><td>null</td><td>false</td><td>401</td><td>215.0</td><td>100.0</td><td>[2023-04-27 09:10:33, 2023-04-27 09:20:25, … 2023-05-17 15:51:19]</td><td>[100.0, 20.0, … 100.0]</td><td>[9738557, 9738211, … 9770178]</td><td>[583.0, 257.0, … 158.0]</td></tr><tr><td>214679</td><td>null</td><td>2023-05-23 05:25:40</td><td>33.0</td><td>null</td><td>2</td><td>[9776715, 9776406, … 9776855]</td><td>[9776566]</td><td>1001055</td><td>false</td><td>null</td><td>null</td><td>null</td><td>false</td><td>1357</td><td>40.0</td><td>47.0</td><td>[2023-04-27 12:12:45, 2023-04-27 12:13:30, … 2023-05-18 05:31:44]</td><td>[100.0, 100.0, … 28.0]</td><td>[9738777, 9738663, … 9769981]</td><td>[35.0, 62.0, … 16.0]</td></tr><tr><td>214681</td><td>null</td><td>2023-05-23 05:31:54</td><td>21.0</td><td>null</td><td>2</td><td>[9775202, 9776855, … 9776570]</td><td>[9776553]</td><td>1001055</td><td>false</td><td>null</td><td>null</td><td>null</td><td>false</td><td>1358</td><td>5.0</td><td>49.0</td><td>[2023-04-27 12:12:45, 2023-04-27 12:13:30, … 2023-05-18 05:31:44]</td><td>[100.0, 100.0, … 28.0]</td><td>[9738777, 9738663, … 9769981]</td><td>[35.0, 62.0, … 16.0]</td></tr></tbody></table></div>"
      ],
      "text/plain": [
       "shape: (5, 21)\n",
       "┌───────────┬───────────┬───────────┬───────────┬───┬───────────┬───────────┬───────────┬──────────┐\n",
       "│ impressio ┆ article_i ┆ impressio ┆ read_time ┆ … ┆ impressio ┆ scroll_pe ┆ article_i ┆ read_tim │\n",
       "│ n_id      ┆ d         ┆ n_time    ┆ ---       ┆   ┆ n_time_fi ┆ rcentage_ ┆ d_fixed   ┆ e_fixed  │\n",
       "│ ---       ┆ ---       ┆ ---       ┆ f32       ┆   ┆ xed       ┆ fixed     ┆ ---       ┆ ---      │\n",
       "│ u32       ┆ i32       ┆ datetime[ ┆           ┆   ┆ ---       ┆ ---       ┆ list[i32] ┆ list[f32 │\n",
       "│           ┆           ┆ μs]       ┆           ┆   ┆ list[date ┆ list[f32] ┆           ┆ ]        │\n",
       "│           ┆           ┆           ┆           ┆   ┆ time[μs]] ┆           ┆           ┆          │\n",
       "╞═══════════╪═══════════╪═══════════╪═══════════╪═══╪═══════════╪═══════════╪═══════════╪══════════╡\n",
       "│ 48401     ┆ null      ┆ 2023-05-2 ┆ 21.0      ┆ … ┆ [2023-04- ┆ [28.0,    ┆ [9738452, ┆ [5.0,    │\n",
       "│           ┆           ┆ 1         ┆           ┆   ┆ 27        ┆ 17.0, …   ┆ 9737521,  ┆ 4.0, …   │\n",
       "│           ┆           ┆ 21:06:50  ┆           ┆   ┆ 09:05:54, ┆ 15.0]     ┆ …         ┆ 7.0]     │\n",
       "│           ┆           ┆           ┆           ┆   ┆ 2023-04-2 ┆           ┆ 9770541]  ┆          │\n",
       "│           ┆           ┆           ┆           ┆   ┆ 7…        ┆           ┆           ┆          │\n",
       "│ 152513    ┆ 9778745   ┆ 2023-05-2 ┆ 30.0      ┆ … ┆ [2023-04- ┆ [100.0,   ┆ [9740087, ┆ [18.0,   │\n",
       "│           ┆           ┆ 4         ┆           ┆   ┆ 29        ┆ 49.0, …   ┆ 9741986,  ┆ 244.0, … │\n",
       "│           ┆           ┆ 07:31:26  ┆           ┆   ┆ 11:34:06, ┆ 24.0]     ┆ …         ┆ 7.0]     │\n",
       "│           ┆           ┆           ┆           ┆   ┆ 2023-04-2 ┆           ┆ 9735909]  ┆          │\n",
       "│           ┆           ┆           ┆           ┆   ┆ 9…        ┆           ┆           ┆          │\n",
       "│ 155390    ┆ null      ┆ 2023-05-2 ┆ 45.0      ┆ … ┆ [2023-04- ┆ [100.0,   ┆ [9738557, ┆ [583.0,  │\n",
       "│           ┆           ┆ 4         ┆           ┆   ┆ 27        ┆ 20.0, …   ┆ 9738211,  ┆ 257.0, … │\n",
       "│           ┆           ┆ 07:30:33  ┆           ┆   ┆ 09:10:33, ┆ 100.0]    ┆ …         ┆ 158.0]   │\n",
       "│           ┆           ┆           ┆           ┆   ┆ 2023-04-2 ┆           ┆ 9770178]  ┆          │\n",
       "│           ┆           ┆           ┆           ┆   ┆ 7…        ┆           ┆           ┆          │\n",
       "│ 214679    ┆ null      ┆ 2023-05-2 ┆ 33.0      ┆ … ┆ [2023-04- ┆ [100.0,   ┆ [9738777, ┆ [35.0,   │\n",
       "│           ┆           ┆ 3         ┆           ┆   ┆ 27        ┆ 100.0, …  ┆ 9738663,  ┆ 62.0, …  │\n",
       "│           ┆           ┆ 05:25:40  ┆           ┆   ┆ 12:12:45, ┆ 28.0]     ┆ …         ┆ 16.0]    │\n",
       "│           ┆           ┆           ┆           ┆   ┆ 2023-04-2 ┆           ┆ 9769981]  ┆          │\n",
       "│           ┆           ┆           ┆           ┆   ┆ 7…        ┆           ┆           ┆          │\n",
       "│ 214681    ┆ null      ┆ 2023-05-2 ┆ 21.0      ┆ … ┆ [2023-04- ┆ [100.0,   ┆ [9738777, ┆ [35.0,   │\n",
       "│           ┆           ┆ 3         ┆           ┆   ┆ 27        ┆ 100.0, …  ┆ 9738663,  ┆ 62.0, …  │\n",
       "│           ┆           ┆ 05:31:54  ┆           ┆   ┆ 12:12:45, ┆ 28.0]     ┆ …         ┆ 16.0]    │\n",
       "│           ┆           ┆           ┆           ┆   ┆ 2023-04-2 ┆           ┆ 9769981]  ┆          │\n",
       "│           ┆           ┆           ┆           ┆   ┆ 7…        ┆           ┆           ┆          │\n",
       "└───────────┴───────────┴───────────┴───────────┴───┴───────────┴───────────┴───────────┴──────────┘"
      ]
     },
     "execution_count": 64,
     "metadata": {},
     "output_type": "execute_result"
    }
   ],
   "source": [
    "import numpy as np\n",
    "import polars as pl\n",
    "from ebnerd_benchmark_lib.utils._constants import DEFAULT_USER_COL\n",
    "\n",
    "import os\n",
    "from pathlib import Path\n",
    "\n",
    "# read in data\n",
    "\n",
    "train_val_base = Path(os.getcwd()).parent / \"data-merged\" / \"merged\" / \"1-ebnerd_demo_(20MB)\"\n",
    "# train_val_base = Path(os.getcwd()).parent / \"data-merged\" / \"merged\" / \"3-ebnerd_large_(3.0GB)\"\n",
    "test_base = Path(os.getcwd()).parent / \"data-merged\" / \"merged\" / \"5-ebnerd_testset_(1.5GB)\"\n",
    "assert train_val_base.exists() and test_base.exists()\n",
    "\n",
    "train_behaviors: pl.LazyFrame = pl.scan_parquet(train_val_base / \"train\" / \"behaviors.parquet\")\n",
    "train_history: pl.LazyFrame = pl.scan_parquet(train_val_base / \"train\" / \"history.parquet\")\n",
    "train_user: pl.LazyFrame = train_behaviors.join(train_history, on=DEFAULT_USER_COL, how=\"inner\")\n",
    "train_articles: pl.LazyFrame = pl.scan_parquet(train_val_base / \"articles.parquet\")\n",
    "\n",
    "val_behaviors: pl.LazyFrame = pl.scan_parquet(train_val_base / \"validation\" / \"behaviors.parquet\")\n",
    "val_history: pl.LazyFrame = pl.scan_parquet(train_val_base / \"validation\" / \"history.parquet\")\n",
    "val_user: pl.LazyFrame = val_behaviors.join(val_history, on=DEFAULT_USER_COL, how=\"inner\")\n",
    "val_articles: pl.LazyFrame = pl.scan_parquet(train_val_base / \"articles.parquet\")\n",
    "\n",
    "test_behaviors: pl.LazyFrame = pl.scan_parquet(test_base / \"test\" / \"behaviors.parquet\")\n",
    "test_history: pl.LazyFrame = pl.scan_parquet(test_base / \"test\" / \"history.parquet\")\n",
    "test_user: pl.LazyFrame = test_behaviors.join(test_history, on=DEFAULT_USER_COL, how=\"inner\")\n",
    "test_articles: pl.LazyFrame = pl.scan_parquet(test_base / \"articles.parquet\")\n",
    "\n",
    "# check if intersection as expected\n",
    "\n",
    "common_cols = set(train_behaviors.columns).intersection(set(train_history.columns))\n",
    "assert list(common_cols)[0] == DEFAULT_USER_COL\n",
    "\n",
    "train_user.head(5).collect()"
   ]
  },
  {
   "cell_type": "code",
   "execution_count": 59,
   "metadata": {},
   "outputs": [
    {
     "name": "stdout",
     "output_type": "stream",
     "text": [
      "{'user_id'} user_id\n"
     ]
    },
    {
     "data": {
      "text/html": [
       "<div><style>\n",
       ".dataframe > thead > tr,\n",
       ".dataframe > tbody > tr {\n",
       "  text-align: right;\n",
       "  white-space: pre-wrap;\n",
       "}\n",
       "</style>\n",
       "<small>shape: (5, 21)</small><table border=\"1\" class=\"dataframe\"><thead><tr><th>impression_id</th><th>article_id</th><th>impression_time</th><th>read_time</th><th>scroll_percentage</th><th>device_type</th><th>article_ids_inview</th><th>article_ids_clicked</th><th>user_id</th><th>is_sso_user</th><th>gender</th><th>postcode</th><th>age</th><th>is_subscriber</th><th>session_id</th><th>next_read_time</th><th>next_scroll_percentage</th><th>impression_time_fixed</th><th>scroll_percentage_fixed</th><th>article_id_fixed</th><th>read_time_fixed</th></tr><tr><td>u32</td><td>i32</td><td>datetime[μs]</td><td>f32</td><td>f32</td><td>i8</td><td>list[i32]</td><td>list[i32]</td><td>u32</td><td>bool</td><td>i8</td><td>i8</td><td>i8</td><td>bool</td><td>u32</td><td>f32</td><td>f32</td><td>list[datetime[μs]]</td><td>list[f32]</td><td>list[i32]</td><td>list[f32]</td></tr></thead><tbody><tr><td>48401</td><td>null</td><td>2023-05-21 21:06:50</td><td>21.0</td><td>null</td><td>2</td><td>[9774516, 9771051, … 9759966]</td><td>[9759966]</td><td>22779</td><td>false</td><td>null</td><td>null</td><td>null</td><td>false</td><td>21</td><td>16.0</td><td>27.0</td><td>[2023-04-27 09:05:54, 2023-04-27 09:06:09, … 2023-05-18 06:26:39]</td><td>[28.0, 17.0, … 15.0]</td><td>[9738452, 9737521, … 9770541]</td><td>[5.0, 4.0, … 7.0]</td></tr><tr><td>152513</td><td>9778745</td><td>2023-05-24 07:31:26</td><td>30.0</td><td>100.0</td><td>1</td><td>[9778669, 9778736, … 9777397]</td><td>[9778661]</td><td>150224</td><td>false</td><td>null</td><td>null</td><td>null</td><td>false</td><td>298</td><td>2.0</td><td>48.0</td><td>[2023-04-29 11:34:06, 2023-04-29 11:34:25, … 2023-05-18 06:13:47]</td><td>[100.0, 49.0, … 24.0]</td><td>[9740087, 9741986, … 9735909]</td><td>[18.0, 244.0, … 7.0]</td></tr><tr><td>155390</td><td>null</td><td>2023-05-24 07:30:33</td><td>45.0</td><td>null</td><td>1</td><td>[9778369, 9777856, … 9778448]</td><td>[9777856]</td><td>160892</td><td>false</td><td>null</td><td>null</td><td>null</td><td>false</td><td>401</td><td>215.0</td><td>100.0</td><td>[2023-04-27 09:10:33, 2023-04-27 09:20:25, … 2023-05-17 15:51:19]</td><td>[100.0, 20.0, … 100.0]</td><td>[9738557, 9738211, … 9770178]</td><td>[583.0, 257.0, … 158.0]</td></tr><tr><td>214679</td><td>null</td><td>2023-05-23 05:25:40</td><td>33.0</td><td>null</td><td>2</td><td>[9776715, 9776406, … 9776855]</td><td>[9776566]</td><td>1001055</td><td>false</td><td>null</td><td>null</td><td>null</td><td>false</td><td>1357</td><td>40.0</td><td>47.0</td><td>[2023-04-27 12:12:45, 2023-04-27 12:13:30, … 2023-05-18 05:31:44]</td><td>[100.0, 100.0, … 28.0]</td><td>[9738777, 9738663, … 9769981]</td><td>[35.0, 62.0, … 16.0]</td></tr><tr><td>214681</td><td>null</td><td>2023-05-23 05:31:54</td><td>21.0</td><td>null</td><td>2</td><td>[9775202, 9776855, … 9776570]</td><td>[9776553]</td><td>1001055</td><td>false</td><td>null</td><td>null</td><td>null</td><td>false</td><td>1358</td><td>5.0</td><td>49.0</td><td>[2023-04-27 12:12:45, 2023-04-27 12:13:30, … 2023-05-18 05:31:44]</td><td>[100.0, 100.0, … 28.0]</td><td>[9738777, 9738663, … 9769981]</td><td>[35.0, 62.0, … 16.0]</td></tr></tbody></table></div>"
      ],
      "text/plain": [
       "shape: (5, 21)\n",
       "┌───────────┬───────────┬───────────┬───────────┬───┬───────────┬───────────┬───────────┬──────────┐\n",
       "│ impressio ┆ article_i ┆ impressio ┆ read_time ┆ … ┆ impressio ┆ scroll_pe ┆ article_i ┆ read_tim │\n",
       "│ n_id      ┆ d         ┆ n_time    ┆ ---       ┆   ┆ n_time_fi ┆ rcentage_ ┆ d_fixed   ┆ e_fixed  │\n",
       "│ ---       ┆ ---       ┆ ---       ┆ f32       ┆   ┆ xed       ┆ fixed     ┆ ---       ┆ ---      │\n",
       "│ u32       ┆ i32       ┆ datetime[ ┆           ┆   ┆ ---       ┆ ---       ┆ list[i32] ┆ list[f32 │\n",
       "│           ┆           ┆ μs]       ┆           ┆   ┆ list[date ┆ list[f32] ┆           ┆ ]        │\n",
       "│           ┆           ┆           ┆           ┆   ┆ time[μs]] ┆           ┆           ┆          │\n",
       "╞═══════════╪═══════════╪═══════════╪═══════════╪═══╪═══════════╪═══════════╪═══════════╪══════════╡\n",
       "│ 48401     ┆ null      ┆ 2023-05-2 ┆ 21.0      ┆ … ┆ [2023-04- ┆ [28.0,    ┆ [9738452, ┆ [5.0,    │\n",
       "│           ┆           ┆ 1         ┆           ┆   ┆ 27        ┆ 17.0, …   ┆ 9737521,  ┆ 4.0, …   │\n",
       "│           ┆           ┆ 21:06:50  ┆           ┆   ┆ 09:05:54, ┆ 15.0]     ┆ …         ┆ 7.0]     │\n",
       "│           ┆           ┆           ┆           ┆   ┆ 2023-04-2 ┆           ┆ 9770541]  ┆          │\n",
       "│           ┆           ┆           ┆           ┆   ┆ 7…        ┆           ┆           ┆          │\n",
       "│ 152513    ┆ 9778745   ┆ 2023-05-2 ┆ 30.0      ┆ … ┆ [2023-04- ┆ [100.0,   ┆ [9740087, ┆ [18.0,   │\n",
       "│           ┆           ┆ 4         ┆           ┆   ┆ 29        ┆ 49.0, …   ┆ 9741986,  ┆ 244.0, … │\n",
       "│           ┆           ┆ 07:31:26  ┆           ┆   ┆ 11:34:06, ┆ 24.0]     ┆ …         ┆ 7.0]     │\n",
       "│           ┆           ┆           ┆           ┆   ┆ 2023-04-2 ┆           ┆ 9735909]  ┆          │\n",
       "│           ┆           ┆           ┆           ┆   ┆ 9…        ┆           ┆           ┆          │\n",
       "│ 155390    ┆ null      ┆ 2023-05-2 ┆ 45.0      ┆ … ┆ [2023-04- ┆ [100.0,   ┆ [9738557, ┆ [583.0,  │\n",
       "│           ┆           ┆ 4         ┆           ┆   ┆ 27        ┆ 20.0, …   ┆ 9738211,  ┆ 257.0, … │\n",
       "│           ┆           ┆ 07:30:33  ┆           ┆   ┆ 09:10:33, ┆ 100.0]    ┆ …         ┆ 158.0]   │\n",
       "│           ┆           ┆           ┆           ┆   ┆ 2023-04-2 ┆           ┆ 9770178]  ┆          │\n",
       "│           ┆           ┆           ┆           ┆   ┆ 7…        ┆           ┆           ┆          │\n",
       "│ 214679    ┆ null      ┆ 2023-05-2 ┆ 33.0      ┆ … ┆ [2023-04- ┆ [100.0,   ┆ [9738777, ┆ [35.0,   │\n",
       "│           ┆           ┆ 3         ┆           ┆   ┆ 27        ┆ 100.0, …  ┆ 9738663,  ┆ 62.0, …  │\n",
       "│           ┆           ┆ 05:25:40  ┆           ┆   ┆ 12:12:45, ┆ 28.0]     ┆ …         ┆ 16.0]    │\n",
       "│           ┆           ┆           ┆           ┆   ┆ 2023-04-2 ┆           ┆ 9769981]  ┆          │\n",
       "│           ┆           ┆           ┆           ┆   ┆ 7…        ┆           ┆           ┆          │\n",
       "│ 214681    ┆ null      ┆ 2023-05-2 ┆ 21.0      ┆ … ┆ [2023-04- ┆ [100.0,   ┆ [9738777, ┆ [35.0,   │\n",
       "│           ┆           ┆ 3         ┆           ┆   ┆ 27        ┆ 100.0, …  ┆ 9738663,  ┆ 62.0, …  │\n",
       "│           ┆           ┆ 05:31:54  ┆           ┆   ┆ 12:12:45, ┆ 28.0]     ┆ …         ┆ 16.0]    │\n",
       "│           ┆           ┆           ┆           ┆   ┆ 2023-04-2 ┆           ┆ 9769981]  ┆          │\n",
       "│           ┆           ┆           ┆           ┆   ┆ 7…        ┆           ┆           ┆          │\n",
       "└───────────┴───────────┴───────────┴───────────┴───┴───────────┴───────────┴───────────┴──────────┘"
      ]
     },
     "execution_count": 59,
     "metadata": {},
     "output_type": "execute_result"
    }
   ],
   "source": [
    "# df = pl.concat(\n",
    "#     (rows.join(train_behaviors.collect(), on=DEFAULT_USER_COL, how=\"left\")\n",
    "#      for rows in train_behaviors.collect().iter_slices())\n",
    "# )\n",
    "# df.head(5)\n",
    "\n",
    "\n",
    "# cols in common\n",
    "common_cols = set(train_behaviors.columns).intersection(set(train_history.columns))\n",
    "print(common_cols, DEFAULT_USER_COL)\n",
    "\n",
    "# merge\n",
    "train = train_behaviors.join(train_history, on=DEFAULT_USER_COL, how=\"inner\").collect()\n",
    "train.head(5)"
   ]
  },
  {
   "cell_type": "code",
   "execution_count": null,
   "metadata": {},
   "outputs": [],
   "source": []
  }
 ],
 "metadata": {
  "kernelspec": {
   "display_name": "Python 3",
   "language": "python",
   "name": "python3"
  },
  "language_info": {
   "codemirror_mode": {
    "name": "ipython",
    "version": 3
   },
   "file_extension": ".py",
   "mimetype": "text/x-python",
   "name": "python",
   "nbconvert_exporter": "python",
   "pygments_lexer": "ipython3",
   "version": "3.11.9"
  }
 },
 "nbformat": 4,
 "nbformat_minor": 2
}
