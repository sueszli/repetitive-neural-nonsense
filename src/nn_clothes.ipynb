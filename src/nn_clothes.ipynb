{
 "cells": [
  {
   "cell_type": "code",
   "execution_count": 142,
   "metadata": {},
   "outputs": [],
   "source": [
    "import torch\n",
    "from torch import nn\n",
    "from torch.nn import functional as F\n",
    "from torch.optim import SGD\n",
    "from torch.utils.data import DataLoader\n",
    "from torchvision import datasets\n",
    "from torchvision.transforms import ToTensor\n",
    "\n",
    "import numpy as np\n",
    "import matplotlib.pyplot as plt\n",
    "import seaborn as sns\n",
    "from typing import Callable"
   ]
  },
  {
   "cell_type": "markdown",
   "metadata": {},
   "source": [
    "## what does the data look like?"
   ]
  },
  {
   "cell_type": "code",
   "execution_count": 143,
   "metadata": {},
   "outputs": [
    {
     "name": "stdout",
     "output_type": "stream",
     "text": [
      "Number of training images: 60000\n",
      "Number of labels: 10\n",
      "Shape of X: torch.Size([1, 28, 28]) -> [color channels, img height, img width]\n",
      "Shape of y: 9 -> label for each image\n"
     ]
    }
   ],
   "source": [
    "# get data\n",
    "train_data = datasets.FashionMNIST(root=\"../pytorch_data\", train=True, download=True, transform=ToTensor())\n",
    "test_data = datasets.FashionMNIST(root=\"../pytorch_data\", train=False, download=True, transform=ToTensor())\n",
    "\n",
    "print(f\"Number of training images: {len(train_data)}\")\n",
    "print(f\"Number of labels: {len(train_data.classes)}\")\n",
    "\n",
    "img, label = train_data[0]\n",
    "print(f\"Shape of X: {img.shape} -> [color channels, img height, img width]\")\n",
    "print(f\"Shape of y: {label} -> label for each image\")"
   ]
  },
  {
   "cell_type": "code",
   "execution_count": 144,
   "metadata": {},
   "outputs": [
    {
     "data": {
      "image/png": "[encoded data removed]",
      "text/plain": [
       "<Figure size 500x500 with 9 Axes>"
      ]
     },
     "metadata": {},
     "output_type": "display_data"
    }
   ],
   "source": [
    "# {\n",
    "#     \"T-Shirt\": 0,\n",
    "#     \"Trouser\": 1,\n",
    "#     \"Pullover\": 2,\n",
    "#     \"Dress\": 3,\n",
    "#     \"Coat\": 4,\n",
    "#     \"Sandal\": 5,\n",
    "#     \"Shirt\": 6,\n",
    "#     \"Sneaker\": 7,\n",
    "#     \"Bag\": 8,\n",
    "#     \"Ankle Boot\": 9,\n",
    "# }\n",
    "\n",
    "figure = plt.figure(figsize=(5, 5))\n",
    "cols, rows = 3, 3\n",
    "get_label_name: Callable[[int], str] = lambda label: train_data.classes[label]\n",
    "for i in range(1, cols * rows + 1):\n",
    "    idx = torch.randint(len(train_data), size=(1,)).item()\n",
    "    img, label = train_data[idx] # type: ignore\n",
    "    figure.add_subplot(rows, cols, i)\n",
    "    plt.title(get_label_name(label))\n",
    "    plt.axis(\"off\")\n",
    "    plt.imshow(img.squeeze(), cmap=\"gray\")\n",
    "plt.show()"
   ]
  },
  {
   "cell_type": "markdown",
   "metadata": {},
   "source": [
    "## neural network"
   ]
  },
  {
   "cell_type": "markdown",
   "metadata": {},
   "source": [
    "the `__init__` function describes the architecture of the neural network by defining a bunch of object variables.\n",
    "\n",
    "the `forward` function describes how the data flows through the network by using the previously defined object variables.\n",
    "\n",
    "_flatten_\n",
    "\n",
    "- we flatten the 2d input image into a 1d tensor.\n",
    "\n",
    "_linear transformation_\n",
    "\n",
    "- $y = xW^T + b$\n",
    "- we have 2 hidden layers and one output layer.\n",
    "- we want to learn the weight matrix $W$ and bias vector $b$.\n",
    "- fully connected layers: every neuron in the input is connected to every neuron in the output.\n",
    "\n",
    "_relu activation function_\n",
    "\n",
    "- $y = max(0, x)$"
   ]
  },
  {
   "cell_type": "code",
   "execution_count": 145,
   "metadata": {},
   "outputs": [
    {
     "name": "stdout",
     "output_type": "stream",
     "text": [
      "using device: mps\n",
      "NeuralNetwork(\n",
      "  (flatten): Flatten(start_dim=1, end_dim=-1)\n",
      "  (linear_relu_stack): Sequential(\n",
      "    (0): Linear(in_features=784, out_features=512, bias=True)\n",
      "    (1): ReLU()\n",
      "    (2): Linear(in_features=512, out_features=512, bias=True)\n",
      "    (3): ReLU()\n",
      "    (4): Linear(in_features=512, out_features=10, bias=True)\n",
      "  )\n",
      ")\n"
     ]
    }
   ],
   "source": [
    "class NeuralNetwork(nn.Module):\n",
    "    def __init__(self):\n",
    "        super().__init__()\n",
    "        \n",
    "        self.flatten = nn.Flatten()\n",
    "\n",
    "        self.linear_relu_stack = nn.Sequential(\n",
    "            nn.Linear(in_features=28*28, out_features=512, bias=True),\n",
    "            nn.ReLU(),\n",
    "\n",
    "            nn.Linear(in_features=512, out_features=512, bias=True),\n",
    "            nn.ReLU(),\n",
    "\n",
    "            nn.Linear(in_features=512, out_features=10, bias=True),\n",
    "        )\n",
    "\n",
    "    def forward(self, x):\n",
    "        x = self.flatten(x)\n",
    "        logits = self.linear_relu_stack(x)\n",
    "        return logits\n",
    "\n",
    "device = torch.device(\"cuda\" if torch.cuda.is_available() else \"mps\" if torch.backends.mps.is_available() else \"cpu\")\n",
    "print(f\"using device: {device}\")\n",
    "model = NeuralNetwork().to(device)\n",
    "\n",
    "print(model)"
   ]
  },
  {
   "cell_type": "code",
   "execution_count": 146,
   "metadata": {},
   "outputs": [
    {
     "name": "stdout",
     "output_type": "stream",
     "text": [
      "layer: linear_relu_stack.0.weight | size: torch.Size([512, 784]) | \n",
      "weights : tensor([[-0.0220,  0.0006, -0.0357,  ..., -0.0071, -0.0175,  0.0158],\n",
      "        [ 0.0310, -0.0314,  0.0120,  ...,  0.0147,  0.0035, -0.0069]],\n",
      "       device='mps:0', grad_fn=<SliceBackward0>) \n",
      "\n",
      "layer: linear_relu_stack.0.bias | size: torch.Size([512]) | \n",
      "weights : tensor([-0.0165, -0.0250], device='mps:0', grad_fn=<SliceBackward0>) \n",
      "\n",
      "layer: linear_relu_stack.2.weight | size: torch.Size([512, 512]) | \n",
      "weights : tensor([[ 0.0260, -0.0133, -0.0117,  ..., -0.0017, -0.0122, -0.0092],\n",
      "        [-0.0402,  0.0047,  0.0252,  ...,  0.0117, -0.0150, -0.0343]],\n",
      "       device='mps:0', grad_fn=<SliceBackward0>) \n",
      "\n",
      "layer: linear_relu_stack.2.bias | size: torch.Size([512]) | \n",
      "weights : tensor([0.0030, 0.0113], device='mps:0', grad_fn=<SliceBackward0>) \n",
      "\n",
      "layer: linear_relu_stack.4.weight | size: torch.Size([10, 512]) | \n",
      "weights : tensor([[-0.0321, -0.0023, -0.0308,  ..., -0.0441,  0.0265,  0.0130],\n",
      "        [ 0.0178, -0.0212,  0.0212,  ...,  0.0134,  0.0043,  0.0019]],\n",
      "       device='mps:0', grad_fn=<SliceBackward0>) \n",
      "\n",
      "layer: linear_relu_stack.4.bias | size: torch.Size([10]) | \n",
      "weights : tensor([0.0016, 0.0151], device='mps:0', grad_fn=<SliceBackward0>) \n",
      "\n"
     ]
    }
   ],
   "source": [
    "for name, param in model.named_parameters():\n",
    "    print(f\"layer: {name} | size: {param.size()} | \\nweights : {param[:2]} \\n\")"
   ]
  },
  {
   "cell_type": "code",
   "execution_count": 147,
   "metadata": {},
   "outputs": [
    {
     "name": "stdout",
     "output_type": "stream",
     "text": [
      "predicted: tensor([5], device='mps:0') -> Sandal\n"
     ]
    }
   ],
   "source": [
    "# not a real image, just to test the model\n",
    "X = torch.rand(1, 28, 28, device=device)\n",
    "\n",
    "# apply softmax to the output, get highest probability class\n",
    "logits = model(X)\n",
    "y_pred = nn.Softmax(dim=1)(logits).argmax(1)\n",
    "print(f\"predicted: {y_pred} -> {get_label_name(y_pred.item())}\")"
   ]
  },
  {
   "cell_type": "markdown",
   "metadata": {},
   "source": [
    "## train and benchmark"
   ]
  },
  {
   "cell_type": "markdown",
   "metadata": {},
   "source": [
    "setting the model to `.train()` or `.eval()` mode is important because it changes the behavior of some layers like dropout and batch normalization. it's unnecessary for this model because we don't have any of those layers but it's a good habit to get into.\n",
    "\n",
    "in the `test_loop()` we disable the gradient computation by using `torch.no_grad()` because we don't need to compute gradients during inference for tensors with `requires_grad=True`. this speeds up the computation and reduces memory."
   ]
  },
  {
   "cell_type": "code",
   "execution_count": 148,
   "metadata": {},
   "outputs": [
    {
     "name": "stdout",
     "output_type": "stream",
     "text": [
      "Epoch 1\n",
      "-------------------------------\n",
      "Loss: 2.300100  [   64/60000]\n",
      "Loss: 2.287880  [ 6464/60000]\n",
      "Loss: 2.271092  [12864/60000]\n",
      "Loss: 2.260396  [19264/60000]\n",
      "Loss: 2.236358  [25664/60000]\n",
      "Loss: 2.241379  [32064/60000]\n",
      "Loss: 2.218752  [38464/60000]\n",
      "Loss: 2.211437  [44864/60000]\n",
      "Loss: 2.176637  [51264/60000]\n",
      "Loss: 2.168427  [57664/60000]\n",
      "Accuracy: 50.4%, Avg loss: 2.156253 \n",
      "\n",
      "Epoch 2\n",
      "-------------------------------\n",
      "Loss: 2.158868  [   64/60000]\n",
      "Loss: 2.117580  [ 6464/60000]\n",
      "Loss: 2.104963  [12864/60000]\n",
      "Loss: 2.095150  [19264/60000]\n",
      "Loss: 2.039464  [25664/60000]\n",
      "Loss: 2.044376  [32064/60000]\n",
      "Loss: 1.953449  [38464/60000]\n",
      "Loss: 1.980028  [44864/60000]\n",
      "Loss: 1.892955  [51264/60000]\n",
      "Loss: 1.949749  [57664/60000]\n",
      "Accuracy: 55.6%, Avg loss: 1.889183 \n",
      "\n",
      "Epoch 3\n",
      "-------------------------------\n",
      "Loss: 1.846543  [   64/60000]\n",
      "Loss: 1.779910  [ 6464/60000]\n",
      "Loss: 1.776879  [12864/60000]\n",
      "Loss: 1.742852  [19264/60000]\n",
      "Loss: 1.732702  [25664/60000]\n",
      "Loss: 1.644068  [32064/60000]\n",
      "Loss: 1.748201  [38464/60000]\n",
      "Loss: 1.681061  [44864/60000]\n",
      "Loss: 1.537200  [51264/60000]\n",
      "Loss: 1.557292  [57664/60000]\n",
      "Accuracy: 62.0%, Avg loss: 1.521681 \n",
      "\n",
      "Epoch 4\n",
      "-------------------------------\n",
      "Loss: 1.461093  [   64/60000]\n",
      "Loss: 1.496815  [ 6464/60000]\n",
      "Loss: 1.428641  [12864/60000]\n",
      "Loss: 1.439414  [19264/60000]\n",
      "Loss: 1.305903  [25664/60000]\n",
      "Loss: 1.362549  [32064/60000]\n",
      "Loss: 1.419772  [38464/60000]\n",
      "Loss: 1.304199  [44864/60000]\n",
      "Loss: 1.287266  [51264/60000]\n",
      "Loss: 1.222823  [57664/60000]\n",
      "Accuracy: 63.2%, Avg loss: 1.252150 \n",
      "\n",
      "Epoch 5\n",
      "-------------------------------\n",
      "Loss: 1.188232  [   64/60000]\n",
      "Loss: 1.230284  [ 6464/60000]\n",
      "Loss: 1.303260  [12864/60000]\n",
      "Loss: 1.170592  [19264/60000]\n",
      "Loss: 1.078364  [25664/60000]\n",
      "Loss: 1.167166  [32064/60000]\n",
      "Loss: 1.100307  [38464/60000]\n",
      "Loss: 1.115192  [44864/60000]\n",
      "Loss: 1.071185  [51264/60000]\n",
      "Loss: 1.114855  [57664/60000]\n",
      "Accuracy: 64.6%, Avg loss: 1.084854 \n",
      "\n",
      "Epoch 6\n",
      "-------------------------------\n",
      "Loss: 1.039332  [   64/60000]\n",
      "Loss: 1.048927  [ 6464/60000]\n",
      "Loss: 1.236153  [12864/60000]\n",
      "Loss: 1.033680  [19264/60000]\n",
      "Loss: 1.043924  [25664/60000]\n",
      "Loss: 1.056859  [32064/60000]\n",
      "Loss: 1.031887  [38464/60000]\n",
      "Loss: 1.001385  [44864/60000]\n",
      "Loss: 1.043700  [51264/60000]\n",
      "Loss: 0.980944  [57664/60000]\n",
      "Accuracy: 65.4%, Avg loss: 0.977947 \n",
      "\n",
      "Epoch 7\n",
      "-------------------------------\n",
      "Loss: 0.940245  [   64/60000]\n",
      "Loss: 0.921365  [ 6464/60000]\n",
      "Loss: 0.923967  [12864/60000]\n",
      "Loss: 0.977537  [19264/60000]\n",
      "Loss: 0.962379  [25664/60000]\n",
      "Loss: 0.781983  [32064/60000]\n",
      "Loss: 0.967442  [38464/60000]\n",
      "Loss: 0.940746  [44864/60000]\n",
      "Loss: 0.850251  [51264/60000]\n",
      "Loss: 0.889703  [57664/60000]\n",
      "Accuracy: 67.4%, Avg loss: 0.904747 \n",
      "\n",
      "Epoch 8\n",
      "-------------------------------\n",
      "Loss: 0.811898  [   64/60000]\n",
      "Loss: 0.742396  [ 6464/60000]\n",
      "Loss: 0.889741  [12864/60000]\n",
      "Loss: 0.921189  [19264/60000]\n",
      "Loss: 0.980510  [25664/60000]\n",
      "Loss: 0.876486  [32064/60000]\n",
      "Loss: 0.924692  [38464/60000]\n",
      "Loss: 0.728150  [44864/60000]\n",
      "Loss: 0.895335  [51264/60000]\n",
      "Loss: 0.809544  [57664/60000]\n",
      "Accuracy: 68.3%, Avg loss: 0.852628 \n",
      "\n",
      "Epoch 9\n",
      "-------------------------------\n",
      "Loss: 0.895820  [   64/60000]\n",
      "Loss: 0.802174  [ 6464/60000]\n",
      "Loss: 0.849926  [12864/60000]\n",
      "Loss: 0.818344  [19264/60000]\n",
      "Loss: 0.914876  [25664/60000]\n",
      "Loss: 0.928197  [32064/60000]\n",
      "Loss: 0.877125  [38464/60000]\n",
      "Loss: 0.767361  [44864/60000]\n",
      "Loss: 0.849198  [51264/60000]\n",
      "Loss: 0.836150  [57664/60000]\n",
      "Accuracy: 69.9%, Avg loss: 0.813174 \n",
      "\n",
      "Epoch 10\n",
      "-------------------------------\n",
      "Loss: 0.817118  [   64/60000]\n",
      "Loss: 0.801593  [ 6464/60000]\n",
      "Loss: 0.638978  [12864/60000]\n",
      "Loss: 0.768114  [19264/60000]\n",
      "Loss: 0.886838  [25664/60000]\n",
      "Loss: 0.691459  [32064/60000]\n",
      "Loss: 0.795339  [38464/60000]\n",
      "Loss: 0.734037  [44864/60000]\n",
      "Loss: 0.755658  [51264/60000]\n",
      "Loss: 0.756145  [57664/60000]\n",
      "Accuracy: 71.2%, Avg loss: 0.781437 \n",
      "\n"
     ]
    }
   ],
   "source": [
    "def train_loop(dataloader, model, loss_fn, optimizer):\n",
    "    size = len(dataloader.dataset)\n",
    "    model.train()\n",
    "    \n",
    "    for batch, (X, y) in enumerate(dataloader):\n",
    "        X, y = X.to(device), y.to(device)\n",
    "\n",
    "        # get prediction error\n",
    "        pred = model(X)\n",
    "        loss = loss_fn(pred, y)\n",
    "\n",
    "        # backpropagation\n",
    "        loss.backward() # compute gradients for each parameter\n",
    "        optimizer.step() # update weights based on gradients\n",
    "        optimizer.zero_grad() # reset gradients so they don't accumulate\n",
    "\n",
    "        if batch % 100 == 0:\n",
    "            loss = loss.item()\n",
    "            current = (batch + 1) * len(X)\n",
    "            print(f\"Loss: {loss:>7f}  [{current:>5d}/{size:>5d}]\")\n",
    "\n",
    "\n",
    "def test_loop(dataloader, model, loss_fn):\n",
    "    size = len(dataloader.dataset)\n",
    "    num_batches = len(dataloader)\n",
    "    model.eval()\n",
    "\n",
    "    # compute loss and accuracy over entire test set\n",
    "    test_loss, correct = 0, 0\n",
    "    with torch.no_grad():\n",
    "        for X, y in dataloader:\n",
    "            X, y = X.to(device), y.to(device)\n",
    "            pred = model(X)\n",
    "            test_loss += loss_fn(pred, y).item()\n",
    "            correct += (pred.argmax(1) == y).type(torch.float).sum().item()\n",
    "\n",
    "    # average\n",
    "    test_loss /= num_batches\n",
    "    correct /= size\n",
    "\n",
    "    print(f\"Accuracy: {(100*correct):>0.1f}%, Avg loss: {test_loss:>8f} \\n\")\n",
    "\n",
    "\n",
    "def main():\n",
    "    hyperparams = {\n",
    "        \"batch_size\": 64,\n",
    "        \"epochs\": 10,\n",
    "        \"learning_rate\": 1e-3,\n",
    "    }\n",
    "    loss_fn: nn.CrossEntropyLoss = nn.CrossEntropyLoss()\n",
    "    optimizer: SGD = torch.optim.SGD(model.parameters(), lr=hyperparams[\"learning_rate\"])\n",
    "\n",
    "    train_batcher = DataLoader(train_data, batch_size=hyperparams[\"batch_size\"], shuffle=True)\n",
    "    test_batcher = DataLoader(test_data, batch_size=hyperparams[\"batch_size\"], shuffle=False)\n",
    "    for t in range(hyperparams[\"epochs\"]):\n",
    "        print(f\"Epoch {t+1}\\n-------------------------------\")\n",
    "        train_loop(train_batcher, model, loss_fn, optimizer)\n",
    "        test_loop(test_batcher, model, loss_fn)\n",
    "\n",
    "main()"
   ]
  },
  {
   "cell_type": "code",
   "execution_count": null,
   "metadata": {},
   "outputs": [],
   "source": []
  }
 ],
 "metadata": {
  "kernelspec": {
   "display_name": "Python 3",
   "language": "python",
   "name": "python3"
  },
  "language_info": {
   "codemirror_mode": {
    "name": "ipython",
    "version": 3
   },
   "file_extension": ".py",
   "mimetype": "text/x-python",
   "name": "python",
   "nbconvert_exporter": "python",
   "pygments_lexer": "ipython3",
   "version": "3.11.undefined"
  }
 },
 "nbformat": 4,
 "nbformat_minor": 2
}
