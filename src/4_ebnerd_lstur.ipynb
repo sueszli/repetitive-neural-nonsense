{
 "cells": [
  {
   "cell_type": "markdown",
   "metadata": {},
   "source": [
    "# LSTUR: Neural News Recommendation with Long- and Short-term User Representations"
   ]
  },
  {
   "cell_type": "code",
   "execution_count": 29,
   "metadata": {},
   "outputs": [
    {
     "name": "stderr",
     "output_type": "stream",
     "text": [
      "/Users/sueszli/.asdf/installs/python/3.11.9/lib/python3.11/site-packages/ebrec/utils/_behaviors.py:619: UserWarning: truncate_history: The history IDs expeced in ascending order\n",
      "  warnings.warn(f\"{function_name}: The history IDs expeced in ascending order\")\n",
      "/Users/sueszli/.asdf/installs/python/3.11.9/lib/python3.11/site-packages/huggingface_hub/file_download.py:1132: FutureWarning: `resume_download` is deprecated and will be removed in version 1.0.0. Downloads always resume when possible. If you want to force a new download, use `force_download=True`.\n",
      "  warnings.warn(\n"
     ]
    }
   ],
   "source": [
    "from pathlib import Path\n",
    "import tensorflow as tf\n",
    "import polars as pl\n",
    "import numpy as np\n",
    "import os\n",
    "\n",
    "from ebrec.utils._constants import *\n",
    "from ebrec.utils._behaviors import create_binary_labels_column, sampling_strategy_wu2019, add_known_user_column, add_prediction_scores, truncate_history\n",
    "from ebrec.utils._articles import convert_text2encoding_with_transformers, create_article_id_to_value_mapping\n",
    "from ebrec.utils._polars import concat_str_columns, slice_join_dataframes\n",
    "from ebrec.utils._nlp import get_transformers_word_embeddings\n",
    "\n",
    "from transformers import AutoTokenizer, AutoModel\n",
    "\n",
    "\n",
    "\"\"\"\n",
    "load data\n",
    "\"\"\"\n",
    "\n",
    "data_base = Path(os.getcwd()).parent / \"data-merged\" / \"merged\"\n",
    "# train_val_base = data_base / \"1-ebnerd_demo_(20MB)\"\n",
    "train_val_base = data_base / \"2-ebnerd_small_(80MB)\"\n",
    "# train_val_base = data_base / \"3-ebnerd_large_(3.0GB)\"\n",
    "test_base = data_base / \"5-ebnerd_testset_(1.5GB)\"\n",
    "assert train_val_base.exists() and test_base.exists()\n",
    "\n",
    "train_behaviors = pl.scan_parquet(train_val_base / \"train\" / \"behaviors.parquet\")\n",
    "train_history = pl.scan_parquet(train_val_base / \"train\" / \"history.parquet\")\n",
    "\n",
    "val_behavior = pl.scan_parquet(train_val_base / \"validation\" / \"behaviors.parquet\")\n",
    "val_history = pl.scan_parquet(train_val_base / \"validation\" / \"history.parquet\")\n",
    "\n",
    "test_behavior = pl.scan_parquet(test_base / \"test\" / \"behaviors.parquet\")\n",
    "test_history = pl.scan_parquet(test_base / \"test\" / \"history.parquet\")\n",
    "\n",
    "train_articles: pl.LazyFrame = pl.scan_parquet(train_val_base / \"articles.parquet\")\n",
    "val_articles: pl.LazyFrame = train_articles\n",
    "test_articles: pl.LazyFrame = pl.scan_parquet(test_base / \"articles.parquet\")\n",
    "\n",
    "articles_word2vec: pl.LazyFrame = pl.scan_parquet(data_base / \"7-Ekstra-Bladet-word2vec_(133MB)\" / \"document_vector.parquet\")\n",
    "articles_image_embeddings: pl.LazyFrame = pl.scan_parquet(data_base / \"8-Ekstra_Bladet_image_embeddings_(372MB)\" / \"image_embeddings.parquet\")\n",
    "articles_contrastive_vector: pl.LazyFrame = pl.scan_parquet(data_base / \"9-Ekstra-Bladet-contrastive_vector_(341MB)\" / \"contrastive_vector.parquet\")\n",
    "articles_bert_base_multilingual_cased: pl.LazyFrame = pl.scan_parquet(data_base / \"10-google-bert-base-multilingual-cased_(344MB)\" / \"bert_base_multilingual_cased.parquet\")\n",
    "articles_xlm_roberta_base: pl.LazyFrame = pl.scan_parquet(data_base / \"11-FacebookAI-xlm-roberta-base_(341MB)\" / \"xlm_roberta_base.parquet\")\n",
    "\n",
    "\n",
    "\"\"\"\n",
    "preprocessing: truncate user history, select subset of columns, join behavior and history, sample based on Wu2019, add binary labels column\n",
    "\"\"\"\n",
    "\n",
    "def ebnerd_from_path(history: pl.LazyFrame, behaviors: pl.LazyFrame, history_size: int = 30) -> pl.DataFrame:\n",
    "    df_history = history \\\n",
    "            .select(DEFAULT_USER_COL, DEFAULT_HISTORY_ARTICLE_ID_COL) \\\n",
    "            .pipe(truncate_history, column=DEFAULT_HISTORY_ARTICLE_ID_COL, history_size=history_size, padding_value=0)\n",
    "    df_behaviors = behaviors \\\n",
    "            .collect() \\\n",
    "            .pipe(slice_join_dataframes, df2=df_history.collect(), on=DEFAULT_USER_COL, how=\"left\")\n",
    "    return df_behaviors\n",
    "\n",
    "COLUMNS = [\n",
    "    DEFAULT_USER_COL,\n",
    "    DEFAULT_HISTORY_ARTICLE_ID_COL,\n",
    "    DEFAULT_INVIEW_ARTICLES_COL,\n",
    "    DEFAULT_CLICKED_ARTICLES_COL,\n",
    "]\n",
    "HISTORY_SIZE = 30\n",
    "N_SAMPLES = 100\n",
    "df_train = ebnerd_from_path(history=train_history, behaviors=train_behaviors, history_size=HISTORY_SIZE) \\\n",
    "            .select(COLUMNS) \\\n",
    "            .pipe(sampling_strategy_wu2019, npratio=4, shuffle=True, with_replacement=True, seed=123) \\\n",
    "            .pipe(create_binary_labels_column) \\\n",
    "            .sample(n=N_SAMPLES)\n",
    "df_validation = ebnerd_from_path(history=val_history, behaviors=val_behavior, history_size=HISTORY_SIZE) \\\n",
    "            .select(COLUMNS) \\\n",
    "            .pipe(create_binary_labels_column) \\\n",
    "            .sample(n=N_SAMPLES)\n",
    "df_test = ebnerd_from_path(history=test_history, behaviors=val_behavior, history_size=HISTORY_SIZE) \\\n",
    "            .with_columns(pl.Series(DEFAULT_CLICKED_ARTICLES_COL, [[]])) \\\n",
    "            .select(COLUMNS) \\\n",
    "            .pipe(create_binary_labels_column) \\\n",
    "            .sample(n=N_SAMPLES)\n",
    "\n",
    "\n",
    "\"\"\"\n",
    "use huggingface transformers to convert article text to tokens, tokens to embeddings\n",
    "\"\"\"\n",
    "\n",
    "df_articles = train_articles.collect()\n",
    "TRANSFORMER_MODEL_NAME = \"bert-base-multilingual-cased\"\n",
    "TEXT_COLUMNS_TO_USE = [DEFAULT_SUBTITLE_COL, DEFAULT_TITLE_COL]\n",
    "MAX_TITLE_LENGTH = 30\n",
    "\n",
    "transformer_model = AutoModel.from_pretrained(TRANSFORMER_MODEL_NAME)\n",
    "transformer_tokenizer = AutoTokenizer.from_pretrained(TRANSFORMER_MODEL_NAME)\n",
    "\n",
    "word2vec_embedding = get_transformers_word_embeddings(transformer_model)\n",
    "df_articles, cat_cal = concat_str_columns(df_articles, columns=TEXT_COLUMNS_TO_USE)\n",
    "df_articles, token_col_title = convert_text2encoding_with_transformers(df_articles, transformer_tokenizer, cat_cal, max_length=MAX_TITLE_LENGTH)\n",
    "article_mapping = create_article_id_to_value_mapping(df=df_articles, value_col=token_col_title)"
   ]
  },
  {
   "cell_type": "code",
   "execution_count": 41,
   "metadata": {},
   "outputs": [
    {
     "name": "stdout",
     "output_type": "stream",
     "text": [
      "KerasTensor(type_spec=TensorSpec(shape=(None, 400), dtype=tf.float32, name=None), name='att_layer2_21/Sum_1:0', description=\"created by layer 'att_layer2_21'\")\n"
     ]
    },
    {
     "name": "stderr",
     "output_type": "stream",
     "text": [
      "WARNING:absl:At this time, the v2.11+ optimizer `tf.keras.optimizers.Adam` runs slowly on M1/M2 Macs, please use the legacy Keras optimizer instead, located at `tf.keras.optimizers.legacy.Adam`.\n"
     ]
    },
    {
     "name": "stdout",
     "output_type": "stream",
     "text": [
      "(300, 50, 30)\n",
      "(300, 5, 30)\n",
      "(300, 1)\n",
      "(300, 5)\n"
     ]
    },
    {
     "name": "stderr",
     "output_type": "stream",
     "text": [
      "2024-05-11 02:37:13.302399: I tensorflow/core/grappler/optimizers/custom_graph_optimizer_registry.cc:117] Plugin optimizer for device_type GPU is enabled.\n",
      "2024-05-11 02:37:13.449182: E tensorflow/core/grappler/optimizers/meta_optimizer.cc:961] model_pruner failed: INVALID_ARGUMENT: Graph does not contain terminal node Adam/AssignAddVariableOp_14.\n"
     ]
    },
    {
     "name": "stdout",
     "output_type": "stream",
     "text": [
      "10/10 [==============================] - 9s 455ms/step - loss: 1.6095\n"
     ]
    },
    {
     "name": "stderr",
     "output_type": "stream",
     "text": [
      "WARNING: All log messages before absl::InitializeLog() is called are written to STDERR\n",
      "W0000 00:00:1715387840.988026       1 op_level_cost_estimator.cc:699] Error in PredictCost() for the op: op: \"Softmax\" attr { key: \"T\" value { type: DT_FLOAT } } attr { key: \"_has_manual_control_dependencies\" value { b: true } } inputs { dtype: DT_FLOAT shape { unknown_rank: true } } device { type: \"GPU\" } outputs { dtype: DT_FLOAT shape { unknown_rank: true } }\n"
     ]
    },
    {
     "name": "stdout",
     "output_type": "stream",
     "text": [
      "10/10 [==============================] - 1s 61ms/step\n"
     ]
    },
    {
     "data": {
      "text/plain": [
       "array([[0.20024328, 0.20031117, 0.20022672, 0.19960976, 0.19960907],\n",
       "       [0.19950934, 0.19952115, 0.20078512, 0.19993061, 0.20025384],\n",
       "       [0.20021854, 0.19995224, 0.19912255, 0.20025276, 0.20045388],\n",
       "       ...,\n",
       "       [0.20013443, 0.19939956, 0.2007515 , 0.20009017, 0.19962436],\n",
       "       [0.1995566 , 0.20084976, 0.20021631, 0.19972397, 0.19965334],\n",
       "       [0.19952637, 0.20046286, 0.20091149, 0.19989572, 0.19920363]],\n",
       "      dtype=float32)"
      ]
     },
     "execution_count": 41,
     "metadata": {},
     "output_type": "execute_result"
    }
   ],
   "source": [
    "from ebrec.models.newsrec.dataloader import LSTURDataLoader\n",
    "from ebrec.models.newsrec.model_config import hparams_lstur\n",
    "from ebrec.models.newsrec.lstur import LSTURModel\n",
    "\n",
    "\n",
    "\"\"\"\n",
    "define model\n",
    "\"\"\"\n",
    "config = hparams_lstur\n",
    "word_embeddings = word2vec_embedding\n",
    "model = LSTURModel(hparams=config, word2vec_embedding=word_embeddings)\n",
    "\n",
    "\n",
    "\"\"\"\n",
    "create random batch data\n",
    "\"\"\"\n",
    "BATCH_SIZE = 300\n",
    "HISTORY_SIZE = config.history_size\n",
    "TITLE_SIZE = config.title_size\n",
    "NPRATIO = 4\n",
    "\n",
    "his_input_title_shape = (HISTORY_SIZE, TITLE_SIZE) # (50, 30)\n",
    "pred_input_title_shape = (NPRATIO + 1, TITLE_SIZE) # (5, 30)\n",
    "vocab_size = word_embeddings.shape[0] # 119547\n",
    "n_users = config.n_users # 50000\n",
    "label_shape = (NPRATIO + 1,) # (5,)\n",
    "user_indexes_shape = (1,) # (1,)\n",
    "\n",
    "his_input_title = np.random.randint(0, vocab_size, (BATCH_SIZE, *his_input_title_shape))\n",
    "pred_input_title = np.random.randint(0, vocab_size, (BATCH_SIZE, *pred_input_title_shape))\n",
    "user_indexes = np.random.randint(0, n_users, size=(BATCH_SIZE, *user_indexes_shape))\n",
    "\n",
    "label_data = np.zeros((BATCH_SIZE, *label_shape), dtype=int)\n",
    "for row in label_data:\n",
    "    row[np.random.choice(label_shape[0])] = 1\n",
    "\n",
    "print(his_input_title.shape)\n",
    "print(pred_input_title.shape)\n",
    "print(user_indexes.shape)\n",
    "print(label_data.shape)\n",
    "\n",
    "arg1 = user_indexes\n",
    "arg2 = his_input_title\n",
    "arg3 = pred_input_title\n",
    "arg4 = label_data\n",
    "input_tuple = (arg1, arg2, arg3)\n",
    "\n",
    "\n",
    "\"\"\"\n",
    "train, predict\n",
    "\"\"\"\n",
    "model.model.fit(input_tuple, arg4)\n",
    "model.model.predict(input_tuple)"
   ]
  },
  {
   "cell_type": "markdown",
   "metadata": {},
   "source": [
    "<br><br><br><br><br><br><br><br><br><br>"
   ]
  }
 ],
 "metadata": {
  "kernelspec": {
   "display_name": "Python 3",
   "language": "python",
   "name": "python3"
  },
  "language_info": {
   "codemirror_mode": {
    "name": "ipython",
    "version": 3
   },
   "file_extension": ".py",
   "mimetype": "text/x-python",
   "name": "python",
   "nbconvert_exporter": "python",
   "pygments_lexer": "ipython3",
   "version": "3.11.9"
  }
 },
 "nbformat": 4,
 "nbformat_minor": 2
}
