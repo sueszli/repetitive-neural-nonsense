{
 "cells": [
  {
   "cell_type": "markdown",
   "metadata": {},
   "source": [
    "GRUs are best \n",
    "\n",
    "because they can learn the patterns in a sequence of user events (e.g., articles viewed, clicked, read times, scroll percentages) to predict the next item(s) in a session.\n",
    "\n",
    "The sequence of user events (e.g., articles viewed, clicked, read times, scroll percentages) can be treated as a temporal sequence where each event is represented by its corresponding features.\n",
    "\n",
    "The GRU can learn the patterns in this sequence to predict the next item(s) in a session, effectively recommending articles that are likely to engage the user based on their past behavior and the content of the articles themselves."
   ]
  },
  {
   "cell_type": "code",
   "execution_count": 11,
   "metadata": {},
   "outputs": [],
   "source": [
    "import numpy as np\n",
    "import polars as pl\n",
    "\n",
    "import os\n",
    "from pathlib import Path\n",
    "\n",
    "# read in data\n",
    "\n",
    "train_val_base = Path(os.getcwd()).parent / \"data-merged\" / \"merged\" / \"3-ebnerd_large_(3.0GB)\"\n",
    "test_base = Path(os.getcwd()).parent / \"data-merged\" / \"merged\" / \"5-ebnerd_testset_(1.5GB)\"\n",
    "assert train_val_base.exists() and test_base.exists()\n",
    "\n",
    "train_behaviors: pl.LazyFrame = pl.scan_parquet(train_val_base / \"train\" / \"behaviors.parquet\")\n",
    "train_history: pl.LazyFrame = pl.scan_parquet(train_val_base / \"train\" / \"history.parquet\")\n",
    "train_articles: pl.LazyFrame = pl.scan_parquet(train_val_base / \"articles.parquet\")\n",
    "\n",
    "val_behaviors: pl.LazyFrame = pl.scan_parquet(train_val_base / \"validation\" / \"behaviors.parquet\")\n",
    "val_history: pl.LazyFrame = pl.scan_parquet(train_val_base / \"validation\" / \"history.parquet\")\n",
    "val_articles: pl.LazyFrame = pl.scan_parquet(train_val_base / \"articles.parquet\")\n",
    "\n",
    "test_behaviors: pl.LazyFrame = pl.scan_parquet(test_base / \"test\" / \"behaviors.parquet\")\n",
    "test_history: pl.LazyFrame = pl.scan_parquet(test_base / \"test\" / \"history.parquet\")\n",
    "test_articles: pl.LazyFrame = pl.scan_parquet(test_base / \"articles.parquet\")"
   ]
  },
  {
   "cell_type": "code",
   "execution_count": 15,
   "metadata": {},
   "outputs": [],
   "source": [
    "def merge_behavior_history(path: Path, history_size: int = 30) -> pl.DataFrame:\n",
    "    df_history = (\n",
    "        pl.scan_parquet(path.joinpath(\"history.parquet\"))\n",
    "        .select(DEFAULT_USER_COL, DEFAULT_HISTORY_ARTICLE_ID_COL)\n",
    "        .pipe(\n",
    "            truncate_history,\n",
    "            column=DEFAULT_HISTORY_ARTICLE_ID_COL,\n",
    "            history_size=history_size,\n",
    "            padding_value=0,\n",
    "        )\n",
    "    )\n",
    "    df_behaviors = (\n",
    "        pl.scan_parquet(path.joinpath(\"behaviors.parquet\"))\n",
    "        .collect()\n",
    "        .pipe(\n",
    "            slice_join_dataframes,\n",
    "            df2=df_history.collect(),\n",
    "            on=DEFAULT_USER_COL,\n",
    "            how=\"left\",\n",
    "        )\n",
    "    )\n",
    "    return df_behaviors"
   ]
  },
  {
   "cell_type": "code",
   "execution_count": null,
   "metadata": {},
   "outputs": [],
   "source": []
  }
 ],
 "metadata": {
  "kernelspec": {
   "display_name": "Python 3",
   "language": "python",
   "name": "python3"
  },
  "language_info": {
   "codemirror_mode": {
    "name": "ipython",
    "version": 3
   },
   "file_extension": ".py",
   "mimetype": "text/x-python",
   "name": "python",
   "nbconvert_exporter": "python",
   "pygments_lexer": "ipython3",
   "version": "3.11.9"
  }
 },
 "nbformat": 4,
 "nbformat_minor": 2
}
